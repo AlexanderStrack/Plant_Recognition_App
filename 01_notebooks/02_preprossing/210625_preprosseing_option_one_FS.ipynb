{
 "cells": [
  {
   "cell_type": "markdown",
   "id": "2b69b638",
   "metadata": {},
   "source": [
    "# 0. Import Packages"
   ]
  },
  {
   "cell_type": "code",
   "execution_count": 12,
   "id": "7c8fb851",
   "metadata": {},
   "outputs": [],
   "source": [
    "import pandas as pd\n",
    "import os\n",
    "import numpy as np\n",
    "from tensorflow.keras.preprocessing import image\n",
    "from tensorflow.keras.applications import MobileNetV2\n",
    "from tensorflow.keras.applications.mobilenet_v2 import preprocess_input\n",
    "from tqdm import tqdm\n",
    "from datetime import date"
   ]
  },
  {
   "cell_type": "markdown",
   "id": "3281160f",
   "metadata": {},
   "source": [
    "# 1. Feature Extraction via Pre-Trained CNN for Training Data"
   ]
  },
  {
   "cell_type": "markdown",
   "id": "ab651346",
   "metadata": {},
   "source": [
    "## 1.1 Configurations "
   ]
  },
  {
   "cell_type": "code",
   "execution_count": 16,
   "id": "d7633ecc",
   "metadata": {},
   "outputs": [],
   "source": [
    "\n",
    "# === PLEASE CONFIG ===\n",
    "IMAGE_SIZE = (224, 224)\n",
    "DATE= date.today().strftime(\"%Y_%m_%d\")\n",
    "DATASET_PATH = \"/Users/felix/Documents/Data Science/06_Offical_project_DS/may25_bds_plants/05_data/original_data/2.1.1 New Plant Diseases/New Plant Diseases Dataset(Augmented)/New Plant Diseases Dataset(Augmented)/train\"\n",
    "FEATURES_OUTPUT = f\"/Users/felix/Documents/Data Science/06_Offical_project_DS/may25_bds_plants/05_data/computed_data/{DATE}_features_train.npy\"\n",
    "LABELS_OUTPUT = f\"/Users/felix/Documents/Data Science/06_Offical_project_DS/may25_bds_plants/05_data/computed_data/{DATE}_labels_train.npy\"\n"
   ]
  },
  {
   "cell_type": "markdown",
   "id": "67566e89",
   "metadata": {},
   "source": [
    "## 1.2 Extracting Process via CNN (MobileNetV2)"
   ]
  },
  {
   "cell_type": "code",
   "execution_count": 14,
   "id": "e8fcc1d8",
   "metadata": {},
   "outputs": [
    {
     "name": "stderr",
     "output_type": "stream",
     "text": [
      "/var/folders/k_/x6px3sls6sl0yvv6s6pgyqh80000gn/T/ipykernel_57109/2498957813.py:2: UserWarning: `input_shape` is undefined or non-square, or `rows` is not in [96, 128, 160, 192, 224]. Weights for input shape (224, 224) will be loaded as the default.\n",
      "  model = MobileNetV2(weights=\"imagenet\", include_top=False, pooling=\"avg\")\n",
      "Processing classes: 100%|██████████| 39/39 [37:03<00:00, 57.02s/it]"
     ]
    },
    {
     "name": "stdout",
     "output_type": "stream",
     "text": [
      "\n",
      " Done. Extracted 70295 feature vectors of dimension 1280\n"
     ]
    },
    {
     "name": "stderr",
     "output_type": "stream",
     "text": [
      "\n"
     ]
    }
   ],
   "source": [
    "# === LOAD CNN (pre-trained, feature extractor only) ===\n",
    "model = MobileNetV2(weights=\"imagenet\", include_top=False, pooling=\"avg\")\n",
    "\n",
    "# === HELPER: Preprocess image ===\n",
    "def preprocess_image(img_path):\n",
    "    try:\n",
    "        img = image.load_img(img_path, target_size=IMAGE_SIZE)\n",
    "        img_array = image.img_to_array(img)\n",
    "        img_array = np.expand_dims(img_array, axis=0)\n",
    "        return preprocess_input(img_array)\n",
    "    except Exception as e:\n",
    "        print(f\"Error processing {img_path}: {e}\")\n",
    "        return None\n",
    "\n",
    "# === FEATURE EXTRACTION ===\n",
    "features = []\n",
    "labels = []\n",
    "\n",
    "for label in tqdm(sorted(os.listdir(DATASET_PATH)), desc=\"Processing classes\"):\n",
    "    class_dir = os.path.join(DATASET_PATH, label)\n",
    "    if not os.path.isdir(class_dir):\n",
    "        continue\n",
    "\n",
    "    for fname in os.listdir(class_dir):\n",
    "        fpath = os.path.join(class_dir, fname)\n",
    "        if not fname.lower().endswith((\".jpg\", \".jpeg\", \".png\")):\n",
    "            continue\n",
    "\n",
    "        pre_img = preprocess_image(fpath)\n",
    "        if pre_img is None:\n",
    "            continue\n",
    "\n",
    "        feature = model.predict(pre_img, verbose=0).flatten()\n",
    "        features.append(feature)\n",
    "        labels.append(label)\n",
    "\n",
    "features = np.array(features)\n",
    "labels = np.array(labels)\n",
    "\n",
    "print(f\"\\n Done. Extracted {features.shape[0]} feature vectors of dimension {features.shape[1]}\")\n"
   ]
  },
  {
   "cell_type": "markdown",
   "id": "2e19e1c2",
   "metadata": {},
   "source": [
    "## 1.3 Save to Local Mashine"
   ]
  },
  {
   "cell_type": "code",
   "execution_count": 17,
   "id": "71cc05b2",
   "metadata": {},
   "outputs": [
    {
     "name": "stdout",
     "output_type": "stream",
     "text": [
      "Features saved to /Users/felix/Documents/Data Science/06_Offical_project_DS/may25_bds_plants/05_data/computed_data/2025_06_25_features_train.npy\n",
      "Labels saved to /Users/felix/Documents/Data Science/06_Offical_project_DS/may25_bds_plants/05_data/computed_data/2025_06_25_labels_train.npy\n"
     ]
    }
   ],
   "source": [
    "np.save(FEATURES_OUTPUT, features)\n",
    "np.save(LABELS_OUTPUT, labels)\n",
    "print(f\"Features saved to {FEATURES_OUTPUT}\")\n",
    "print(f\"Labels saved to {LABELS_OUTPUT}\")\n"
   ]
  },
  {
   "cell_type": "markdown",
   "id": "e92fc4ea",
   "metadata": {},
   "source": [
    "# 2. Feature Extraction via Pre-Trained CNN for Test Data"
   ]
  },
  {
   "cell_type": "markdown",
   "id": "8c2cdd19",
   "metadata": {},
   "source": [
    "## 2.1 Configurations "
   ]
  },
  {
   "cell_type": "code",
   "execution_count": null,
   "id": "c2fda4d0",
   "metadata": {},
   "outputs": [],
   "source": [
    "\n",
    "# === PLEASE RECONFIG ===\n",
    "DATASET_PATH = \"/Users/felix/Documents/Data Science/06_Offical_project_DS/may25_bds_plants/05_data/original_data/2.1.1 New Plant Diseases/New Plant Diseases Dataset(Augmented)/New Plant Diseases Dataset(Augmented)/valid\"\n",
    "FEATURES_OUTPUT = f\"/Users/felix/Documents/Data Science/06_Offical_project_DS/may25_bds_plants/05_data/computed_data/{DATE}_features_valid.npy\"\n",
    "LABELS_OUTPUT = f\"/Users/felix/Documents/Data Science/06_Offical_project_DS/may25_bds_plants/05_data/computed_data/{DATE}_labels_valid.npy\""
   ]
  },
  {
   "cell_type": "markdown",
   "id": "405c17a5",
   "metadata": {},
   "source": [
    "## 2.2 Extracting Process via CCN (MobileNetV2)"
   ]
  },
  {
   "cell_type": "code",
   "execution_count": null,
   "id": "6211489e",
   "metadata": {},
   "outputs": [
    {
     "name": "stderr",
     "output_type": "stream",
     "text": [
      "/var/folders/k_/x6px3sls6sl0yvv6s6pgyqh80000gn/T/ipykernel_57109/1651435946.py:11: UserWarning: `input_shape` is undefined or non-square, or `rows` is not in [96, 128, 160, 192, 224]. Weights for input shape (224, 224) will be loaded as the default.\n",
      "  model = MobileNetV2(weights=\"imagenet\", include_top=False, pooling=\"avg\")\n",
      "Processing classes: 100%|██████████| 39/39 [09:26<00:00, 14.53s/it]"
     ]
    },
    {
     "name": "stdout",
     "output_type": "stream",
     "text": [
      "\n",
      " Done. Extracted 17572 feature vectors of dimension 1280\n"
     ]
    },
    {
     "name": "stderr",
     "output_type": "stream",
     "text": [
      "\n"
     ]
    }
   ],
   "source": [
    "# === LOAD CNN (pre-trained, feature extractor only) ===\n",
    "model = MobileNetV2(weights=\"imagenet\", include_top=False, pooling=\"avg\")\n",
    "\n",
    "# === HELPER: Preprocess image ===\n",
    "def preprocess_image(img_path):\n",
    "    try:\n",
    "        img = image.load_img(img_path, target_size=IMAGE_SIZE)\n",
    "        img_array = image.img_to_array(img)\n",
    "        img_array = np.expand_dims(img_array, axis=0)\n",
    "        return preprocess_input(img_array)\n",
    "    except Exception as e:\n",
    "        print(f\"Error processing {img_path}: {e}\")\n",
    "        return None\n",
    "\n",
    "# === FEATURE EXTRACTION ===\n",
    "features = []\n",
    "labels = []\n",
    "\n",
    "for label in tqdm(sorted(os.listdir(DATASET_PATH)), desc=\"Processing classes\"):\n",
    "    class_dir = os.path.join(DATASET_PATH, label)\n",
    "    if not os.path.isdir(class_dir):\n",
    "        continue\n",
    "\n",
    "    for fname in os.listdir(class_dir):\n",
    "        fpath = os.path.join(class_dir, fname)\n",
    "        if not fname.lower().endswith((\".jpg\", \".jpeg\", \".png\")):\n",
    "            continue\n",
    "\n",
    "        pre_img = preprocess_image(fpath)\n",
    "        if pre_img is None:\n",
    "            continue\n",
    "\n",
    "        feature = model.predict(pre_img, verbose=0).flatten()\n",
    "        features.append(feature)\n",
    "        labels.append(label)\n",
    "\n",
    "features = np.array(features)\n",
    "labels = np.array(labels)\n",
    "\n",
    "print(f\"\\n Done. Extracted {features.shape[0]} feature vectors of dimension {features.shape[1]}\")\n"
   ]
  },
  {
   "cell_type": "markdown",
   "id": "0102f599",
   "metadata": {},
   "source": [
    "## 2.3 Save to Local Mashine"
   ]
  },
  {
   "cell_type": "code",
   "execution_count": null,
   "id": "75a0281b",
   "metadata": {},
   "outputs": [],
   "source": [
    "np.save(FEATURES_OUTPUT, features)\n",
    "np.save(LABELS_OUTPUT, labels)\n",
    "\n",
    "print(f\"Features saved to {FEATURES_OUTPUT}\")\n",
    "print(f\"Labels saved to {LABELS_OUTPUT}\")\n"
   ]
  },
  {
   "cell_type": "markdown",
   "id": "5b885676",
   "metadata": {},
   "source": []
  },
  {
   "cell_type": "markdown",
   "id": "bac7e894",
   "metadata": {},
   "source": []
  }
 ],
 "metadata": {
  "kernelspec": {
   "display_name": ".venv",
   "language": "python",
   "name": "python3"
  },
  "language_info": {
   "codemirror_mode": {
    "name": "ipython",
    "version": 3
   },
   "file_extension": ".py",
   "mimetype": "text/x-python",
   "name": "python",
   "nbconvert_exporter": "python",
   "pygments_lexer": "ipython3",
   "version": "3.11.9"
  }
 },
 "nbformat": 4,
 "nbformat_minor": 5
}
