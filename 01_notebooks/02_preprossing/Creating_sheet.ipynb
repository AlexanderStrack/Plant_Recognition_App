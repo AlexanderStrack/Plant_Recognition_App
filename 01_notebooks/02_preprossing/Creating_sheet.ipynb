{
 "cells": [
  {
   "cell_type": "code",
   "execution_count": 1,
   "id": "c6e7f46c",
   "metadata": {},
   "outputs": [],
   "source": [
    "#Requiered libraries\n",
    "import pandas as pd\n",
    "import os\n",
    "import numpy as np\n",
    "from datetime import date\n",
    "import datetime\n",
    "from keras.utils import image_dataset_from_directory\n",
    "import tensorflow as tf\n",
    "from tensorflow import keras\n",
    "import matplotlib.pyplot as plt\n",
    "import seaborn as sns\n",
    "import pickle\n",
    "%matplotlib inline\n",
    "\n",
    "from tensorflow.keras.models import Model, load_model\n",
    "from tensorflow.keras.layers import Input\n",
    "from tensorflow.keras.layers import Dense\n",
    "from tensorflow.keras.layers import Conv2D\n",
    "from tensorflow.keras.layers import MaxPooling2D\n",
    "from tensorflow.keras.layers import Flatten\n",
    "from tensorflow.keras.layers import Dropout\n",
    "\n",
    "from tensorflow.keras.layers import Rescaling\n",
    "from tensorflow.keras.layers import Resizing\n",
    "from tensorflow.keras.layers import RandomFlip\n",
    "from tensorflow.keras.layers import RandomZoom\n",
    "from tensorflow.keras.layers import RandomRotation\n",
    "from tensorflow.keras.layers import RandomBrightness\n",
    "from tensorflow.keras.layers import RandomContrast \n",
    "from tensorflow.keras.layers import RandomTranslation\n",
    "\n",
    "# For evaluating performance\n",
    "from sklearn import metrics\n",
    "from sklearn.metrics import classification_report, confusion_matrix\n",
    "\n",
    "#Tensorboard\n",
    "import io\n",
    "import itertools\n",
    "from packaging import version\n",
    "from tensorflow.keras.callbacks import TensorBoard\n",
    "from tensorflow.keras.models import load_model\n",
    "import tensorflow as tf\n",
    "import datetime\n",
    "%load_ext tensorboard"
   ]
  },
  {
   "cell_type": "code",
   "execution_count": 10,
   "id": "522c6b3f",
   "metadata": {},
   "outputs": [
    {
     "name": "stdout",
     "output_type": "stream",
     "text": [
      "Found 70295 files belonging to 38 classes.\n",
      "Found 17572 files belonging to 38 classes.\n"
     ]
    }
   ],
   "source": [
    "#Reading the dataset\n",
    "\n",
    "\n",
    "DATE= date.today().strftime(\"%Y_%m_%d\")\n",
    "#DATASET_PATH_train = \"\\05_data\\original_data\\2.1.1 New Plant Diseases\\train\"\n",
    "DATASET_PATH_train =\"/Users/felix/Documents/Data Science/06_Offical_project_DS/may25_bds_plants/05_data/original_data/2.1.1 New Plant Diseases/train\"\n",
    "#DATASET_PATH_valid = \"\\05_data\\original_data\\2.1.1 New Plant Diseases\\valid\n",
    "DATASET_PATH_valid = \"/Users/felix/Documents/Data Science/06_Offical_project_DS/may25_bds_plants/05_data/original_data/2.1.1 New Plant Diseases/valid\"\n",
    "#Constant variables\n",
    "\n",
    "IMAGE_SIZE = (224, 224, 3)\n",
    "vector_size_1D = IMAGE_SIZE[0] * IMAGE_SIZE[1] * IMAGE_SIZE[2]  # Flattened size for each image\n",
    "batch_size = 64\n",
    "\n",
    "train = image_dataset_from_directory(\n",
    "    DATASET_PATH_train,  # Path to the dataset\n",
    "    labels='inferred',  # Automatically infer labels from subdirectory names\n",
    "    #label_mode='categorical',  # Use categorical labels\n",
    "    image_size=IMAGE_SIZE[:2],  # Resize images to the specified size\n",
    "    batch_size=batch_size,  # Number of images per batch\n",
    "    seed=42,  # Random seed for reproducibility\n",
    "    )\n",
    "\n",
    "class_names = train.class_names #Saves all class names in a list \n",
    "classes_healthy = [class_name for class_name in train.class_names if \"healthy\" in class_name.lower()]\n",
    "classes_sick = [class_name for class_name in train.class_names if \"healthy\" not in class_name.lower()]\n",
    "\n",
    "# Validation dataset\n",
    "valid = image_dataset_from_directory(\n",
    "    DATASET_PATH_valid,  # Path to the dataset\n",
    "    labels='inferred',  # Automatically infer labels from subdirectory names\n",
    "    #label_mode='categorical',  # Use categorical labels\n",
    "    image_size=IMAGE_SIZE[:2],  # Resize images to the specified size\n",
    "    batch_size=batch_size,  # Number of images per batch\n",
    "    seed=42,  # Random seed for reproducibility\n",
    "    )\n",
    "\n",
    "dataset = train #Choose the dataset to work with, e.g., train, valid, test_healthy, test_sick\n",
    "dataset_valid = valid #Choose the dataset to work with, e.g., train, valid, test_healthy, test_sick\n",
    "dataset.class_names = sorted(dataset.class_names)  # Sort class names for consistency\n",
    "\n",
    "# Configuration for performance optimization\n",
    "# This is used to optimize the performance of data loading and preprocessing\n",
    "AUTOTUNE = tf.data.AUTOTUNE\n",
    "# Apply performance optimizations to the datasets\n",
    "dataset = dataset.cache().prefetch(buffer_size=AUTOTUNE)\n",
    "dataset_valid = dataset_valid.cache().prefetch(buffer_size=AUTOTUNE)"
   ]
  },
  {
   "cell_type": "code",
   "execution_count": 11,
   "id": "b916dec7",
   "metadata": {},
   "outputs": [
    {
     "name": "stdout",
     "output_type": "stream",
     "text": [
      "Model loaded successfully!\n"
     ]
    }
   ],
   "source": [
    "from tensorflow.keras.models import load_model\n",
    "# Passen Sie den Import an Ihr verwendetes Modell an, z.B.:\n",
    "from tensorflow.keras.applications.mobilenet_v2 import preprocess_input\n",
    "\n",
    "model_path = \"/Users/felix/Documents/Data Science/06_Offical_project_DS/may25_bds_plants/05_data/models/2025_07_31_plant_classifier_fine_tuned__model.keras\"\n",
    "\n",
    "# Übergeben Sie die Funktion als 'custom_object'\n",
    "model = load_model(\n",
    "    model_path,\n",
    "    custom_objects={'preprocess_input': preprocess_input}\n",
    ")\n",
    "\n",
    "print(\"Model loaded successfully!\")"
   ]
  },
  {
   "cell_type": "code",
   "execution_count": 12,
   "id": "0ac772b9",
   "metadata": {},
   "outputs": [
    {
     "name": "stderr",
     "output_type": "stream",
     "text": [
      "2025-08-05 09:59:50.403954: I tensorflow/core/framework/local_rendezvous.cc:407] Local rendezvous is aborting with status: OUT_OF_RANGE: End of sequence\n"
     ]
    },
    {
     "name": "stdout",
     "output_type": "stream",
     "text": [
      "              precision    recall  f1-score   support\n",
      "\n",
      "           0       1.00      0.99      1.00       504\n",
      "           1       0.99      1.00      1.00       497\n",
      "           2       1.00      1.00      1.00       440\n",
      "           3       1.00      0.99      0.99       502\n",
      "           4       1.00      1.00      1.00       454\n",
      "           5       1.00      0.99      1.00       421\n",
      "           6       1.00      1.00      1.00       456\n",
      "           7       0.97      0.94      0.95       410\n",
      "           8       0.99      1.00      0.99       477\n",
      "           9       0.95      0.97      0.96       477\n",
      "          10       1.00      1.00      1.00       465\n",
      "          11       0.99      0.99      0.99       472\n",
      "          12       0.99      1.00      0.99       480\n",
      "          13       1.00      1.00      1.00       430\n",
      "          14       1.00      1.00      1.00       423\n",
      "          15       1.00      1.00      1.00       503\n",
      "          16       1.00      0.99      0.99       459\n",
      "          17       1.00      1.00      1.00       432\n",
      "          18       0.99      1.00      0.99       478\n",
      "          19       0.98      1.00      0.99       497\n",
      "          20       0.99      1.00      1.00       485\n",
      "          21       1.00      1.00      1.00       485\n",
      "          22       1.00      0.99      0.99       456\n",
      "          23       1.00      1.00      1.00       445\n",
      "          24       0.99      1.00      0.99       505\n",
      "          25       1.00      1.00      1.00       434\n",
      "          26       1.00      1.00      1.00       444\n",
      "          27       1.00      1.00      1.00       456\n",
      "          28       0.99      0.97      0.98       425\n",
      "          29       0.97      0.91      0.94       480\n",
      "          30       0.97      0.97      0.97       463\n",
      "          31       0.99      0.98      0.98       470\n",
      "          32       0.97      0.95      0.96       436\n",
      "          33       0.99      0.91      0.95       435\n",
      "          34       0.86      0.99      0.92       457\n",
      "          35       1.00      0.98      0.99       490\n",
      "          36       0.99      0.98      0.99       448\n",
      "          37       0.96      1.00      0.98       481\n",
      "\n",
      "    accuracy                           0.99     17572\n",
      "   macro avg       0.99      0.99      0.99     17572\n",
      "weighted avg       0.99      0.99      0.99     17572\n",
      "\n"
     ]
    },
    {
     "data": {
      "text/plain": [
       "<Axes: >"
      ]
     },
     "execution_count": 12,
     "metadata": {},
     "output_type": "execute_result"
    },
    {
     "data": {
      "image/png": "[encoded data removed]",
      "text/plain": [
       "<Figure size 1500x1500 with 1 Axes>"
      ]
     },
     "metadata": {},
     "output_type": "display_data"
    }
   ],
   "source": [
    "# Create evaluation data\n",
    "#Just run\n",
    "\n",
    "def get_predictions_and_labels(dataset):\n",
    "    true_labels = []\n",
    "    pred_labels = []\n",
    "\n",
    "    for images, labels in dataset:\n",
    "        \n",
    "        preds = model.predict(images, verbose=0)  # Get the model's predictions\n",
    "        pred_labels.extend(np.argmax(preds, axis=-1))  # Get the predicted labels (argmax)\n",
    "\n",
    "        true_labels.extend(labels.numpy())  # Get the true labels\n",
    "\n",
    "    return np.array(true_labels), np.array(pred_labels)\n",
    "\n",
    "def generate_classification_report(y_true, y_pred):\n",
    "    return classification_report(y_true, y_pred, output_dict=True)\n",
    "\n",
    "def plot_confusion_matrix(y_true, y_pred, class_names=None):\n",
    "    cm = confusion_matrix(y_true, y_pred, normalize='true')\n",
    "    fig, ax = plt.subplots(figsize=(10, 8))\n",
    "    sns.heatmap(cm, annot=True, fmt=\".2f\", cmap=\"Blues\", cbar=False,\n",
    "                xticklabels=class_names, yticklabels=class_names, ax=ax)\n",
    "    ax.set_xlabel(\"Predicted\")\n",
    "    ax.set_ylabel(\"True\")\n",
    "    ax.set_title(\"Normalized Confusion Matrix\")\n",
    "    return fig\n",
    "\n",
    "\n",
    "y_true, y_pred = get_predictions_and_labels(dataset_valid)  # Get true labels and predictions from the test dataset\n",
    "\n",
    "# Display the classification report\n",
    "print(classification_report(y_true, y_pred))  # Print the classification report (precision, recall, F1-score)\n",
    "\n",
    "# Display the confusion matrix\n",
    "plt.figure(figsize=(15, 15))  # Create a large figure for the confusion matrix\n",
    "cnf_matrix = confusion_matrix(y_true, y_pred, normalize='true')  # Compute the normalized confusion matrix\n",
    "sns.heatmap(cnf_matrix, cmap='Blues', annot=True, cbar=False, fmt=\".2f\")  # Plot the confusion matrix as a heatmap"
   ]
  },
  {
   "cell_type": "code",
   "execution_count": 30,
   "id": "31bcfbf4",
   "metadata": {},
   "outputs": [],
   "source": [
    "\n",
    "report = classification_report(y_true, y_pred, output_dict=True)\n",
    "cmatrix = confusion_matrix(y_true, y_pred, normalize='true')\n",
    "\n",
    "report_file = \"/Users/felix/Documents/Data Science/06_Offical_project_DS/may25_bds_plants/05_data/models/Advanced_Model_advanced_model_classification_results.pkl\"\n",
    "\n",
    "with open(report_file, \"wb\") as f:\n",
    "    pickle.dump({\n",
    "        \"y_true\": y_true,\n",
    "        \"y_pred\": y_pred,\n",
    "        \"report\": report,\n",
    "        \"confusion_matrix\": cmatrix\n",
    "    }, f)\n"
   ]
  },
  {
   "cell_type": "code",
   "execution_count": 32,
   "id": "2caad2cf",
   "metadata": {},
   "outputs": [
    {
     "name": "stdout",
     "output_type": "stream",
     "text": [
      "Verwende Layer 'Conv_1' für Grad-CAM.\n",
      "FEHLER: Einer der Layer nach dem Basismodell wurde nicht gefunden. Überprüfen Sie die Namen in `model.summary()`.\n"
     ]
    },
    {
     "ename": "ValueError",
     "evalue": "No such layer: global_average_pooling2d. Existing layers are: ['input_layer_15', 'sequential_2', 'mobilenetv2_1.00_224', 'global_average_pooling2d_6', 'dropout_6', 'dense_6'].",
     "output_type": "error",
     "traceback": [
      "\u001b[31m---------------------------------------------------------------------------\u001b[39m",
      "\u001b[31mValueError\u001b[39m                                Traceback (most recent call last)",
      "\u001b[36mCell\u001b[39m\u001b[36m \u001b[39m\u001b[32mIn[32]\u001b[39m\u001b[32m, line 161\u001b[39m\n\u001b[32m    159\u001b[39m \u001b[38;5;66;03m# Aufruf der finalen Funktion\u001b[39;00m\n\u001b[32m    160\u001b[39m save_path = \u001b[33m\"\u001b[39m\u001b[33m./grad_cam_visuals\u001b[39m\u001b[33m\"\u001b[39m\n\u001b[32m--> \u001b[39m\u001b[32m161\u001b[39m \u001b[43mshow_grad_cam_with_overlay\u001b[49m\u001b[43m(\u001b[49m\u001b[43msample_images\u001b[49m\u001b[43m,\u001b[49m\u001b[43m \u001b[49m\u001b[43msample_labels\u001b[49m\u001b[43m,\u001b[49m\u001b[43m \u001b[49m\u001b[43mmodel\u001b[49m\u001b[43m,\u001b[49m\u001b[43m \u001b[49m\u001b[43mclass_names\u001b[49m\u001b[43m,\u001b[49m\u001b[43m \u001b[49m\u001b[43msave_dir\u001b[49m\u001b[43m=\u001b[49m\u001b[43msave_path\u001b[49m\u001b[43m)\u001b[49m\n",
      "\u001b[36mCell\u001b[39m\u001b[36m \u001b[39m\u001b[32mIn[32]\u001b[39m\u001b[32m, line 117\u001b[39m, in \u001b[36mshow_grad_cam_with_overlay\u001b[39m\u001b[34m(images, labels, model, class_names, save_dir, base_model_name)\u001b[39m\n\u001b[32m    115\u001b[39m \u001b[38;5;28;01mfor\u001b[39;00m i, (label_idx, data) \u001b[38;5;129;01min\u001b[39;00m \u001b[38;5;28menumerate\u001b[39m(class_items):\n\u001b[32m    116\u001b[39m     img = data[\u001b[33m'\u001b[39m\u001b[33mimage\u001b[39m\u001b[33m'\u001b[39m]\n\u001b[32m--> \u001b[39m\u001b[32m117\u001b[39m     grad_cam_image, predicted_class_idx = \u001b[43mgrad_cam\u001b[49m\u001b[43m(\u001b[49m\u001b[43mimg\u001b[49m\u001b[43m,\u001b[49m\u001b[43m \u001b[49m\u001b[43mmodel\u001b[49m\u001b[43m,\u001b[49m\u001b[43m \u001b[49m\u001b[43mbase_model_name\u001b[49m\u001b[43m,\u001b[49m\u001b[43m \u001b[49m\u001b[43mlast_conv_layer_name\u001b[49m\u001b[43m)\u001b[49m\n\u001b[32m    119\u001b[39m     true_label_str = format_class_name(class_names[label_idx])\n\u001b[32m    120\u001b[39m     predicted_label_str = format_class_name(class_names[predicted_class_idx])\n",
      "\u001b[36mCell\u001b[39m\u001b[36m \u001b[39m\u001b[32mIn[32]\u001b[39m\u001b[32m, line 51\u001b[39m, in \u001b[36mgrad_cam\u001b[39m\u001b[34m(image, model, base_model_name, conv_layer_name)\u001b[39m\n\u001b[32m     49\u001b[39m \u001b[38;5;28;01mexcept\u001b[39;00m \u001b[38;5;167;01mValueError\u001b[39;00m \u001b[38;5;28;01mas\u001b[39;00m e:\n\u001b[32m     50\u001b[39m     \u001b[38;5;28mprint\u001b[39m(\u001b[33mf\u001b[39m\u001b[33m\"\u001b[39m\u001b[33mFEHLER: Einer der Layer nach dem Basismodell wurde nicht gefunden. Überprüfen Sie die Namen in `model.summary()`.\u001b[39m\u001b[33m\"\u001b[39m)\n\u001b[32m---> \u001b[39m\u001b[32m51\u001b[39m     \u001b[38;5;28;01mraise\u001b[39;00m e\n\u001b[32m     53\u001b[39m predicted_class_idx = tf.argmax(predictions[\u001b[32m0\u001b[39m])\n\u001b[32m     54\u001b[39m loss = predictions[:, predicted_class_idx]\n",
      "\u001b[36mCell\u001b[39m\u001b[36m \u001b[39m\u001b[32mIn[32]\u001b[39m\u001b[32m, line 46\u001b[39m, in \u001b[36mgrad_cam\u001b[39m\u001b[34m(image, model, base_model_name, conv_layer_name)\u001b[39m\n\u001b[32m     44\u001b[39m \u001b[38;5;66;03m# WICHTIG: Stellen Sie sicher, dass diese Layernamen mit Ihrer `model.summary()` übereinstimmen!\u001b[39;00m\n\u001b[32m     45\u001b[39m \u001b[38;5;28;01mtry\u001b[39;00m:\n\u001b[32m---> \u001b[39m\u001b[32m46\u001b[39m     x = \u001b[43mmodel\u001b[49m\u001b[43m.\u001b[49m\u001b[43mget_layer\u001b[49m\u001b[43m(\u001b[49m\u001b[33;43m'\u001b[39;49m\u001b[33;43mglobal_average_pooling2d\u001b[39;49m\u001b[33;43m'\u001b[39;49m\u001b[43m)\u001b[49m(base_model_output)\n\u001b[32m     47\u001b[39m     x = model.get_layer(\u001b[33m'\u001b[39m\u001b[33mdropout\u001b[39m\u001b[33m'\u001b[39m)(x)\n\u001b[32m     48\u001b[39m     predictions = model.get_layer(\u001b[33m'\u001b[39m\u001b[33mdense\u001b[39m\u001b[33m'\u001b[39m)(x)\n",
      "\u001b[36mFile \u001b[39m\u001b[32m~/Documents/Data Science/06_Offical_project_DS/may25_bds_plants/.venv/lib/python3.11/site-packages/keras/src/utils/traceback_utils.py:122\u001b[39m, in \u001b[36mfilter_traceback.<locals>.error_handler\u001b[39m\u001b[34m(*args, **kwargs)\u001b[39m\n\u001b[32m    119\u001b[39m     filtered_tb = _process_traceback_frames(e.__traceback__)\n\u001b[32m    120\u001b[39m     \u001b[38;5;66;03m# To get the full stack trace, call:\u001b[39;00m\n\u001b[32m    121\u001b[39m     \u001b[38;5;66;03m# `keras.config.disable_traceback_filtering()`\u001b[39;00m\n\u001b[32m--> \u001b[39m\u001b[32m122\u001b[39m     \u001b[38;5;28;01mraise\u001b[39;00m e.with_traceback(filtered_tb) \u001b[38;5;28;01mfrom\u001b[39;00m\u001b[38;5;250m \u001b[39m\u001b[38;5;28;01mNone\u001b[39;00m\n\u001b[32m    123\u001b[39m \u001b[38;5;28;01mfinally\u001b[39;00m:\n\u001b[32m    124\u001b[39m     \u001b[38;5;28;01mdel\u001b[39;00m filtered_tb\n",
      "\u001b[36mFile \u001b[39m\u001b[32m~/Documents/Data Science/06_Offical_project_DS/may25_bds_plants/.venv/lib/python3.11/site-packages/keras/src/models/model.py:210\u001b[39m, in \u001b[36mModel.get_layer\u001b[39m\u001b[34m(self, name, index)\u001b[39m\n\u001b[32m    208\u001b[39m         \u001b[38;5;28;01mif\u001b[39;00m layer.name == name:\n\u001b[32m    209\u001b[39m             \u001b[38;5;28;01mreturn\u001b[39;00m layer\n\u001b[32m--> \u001b[39m\u001b[32m210\u001b[39m     \u001b[38;5;28;01mraise\u001b[39;00m \u001b[38;5;167;01mValueError\u001b[39;00m(\n\u001b[32m    211\u001b[39m         \u001b[33mf\u001b[39m\u001b[33m\"\u001b[39m\u001b[33mNo such layer: \u001b[39m\u001b[38;5;132;01m{\u001b[39;00mname\u001b[38;5;132;01m}\u001b[39;00m\u001b[33m. Existing layers are: \u001b[39m\u001b[33m\"\u001b[39m\n\u001b[32m    212\u001b[39m         \u001b[33mf\u001b[39m\u001b[33m\"\u001b[39m\u001b[38;5;132;01m{\u001b[39;00m\u001b[38;5;28mlist\u001b[39m(layer.name\u001b[38;5;250m \u001b[39m\u001b[38;5;28;01mfor\u001b[39;00m\u001b[38;5;250m \u001b[39mlayer\u001b[38;5;250m \u001b[39m\u001b[38;5;129;01min\u001b[39;00m\u001b[38;5;250m \u001b[39m\u001b[38;5;28mself\u001b[39m.layers)\u001b[38;5;132;01m}\u001b[39;00m\u001b[33m.\u001b[39m\u001b[33m\"\u001b[39m\n\u001b[32m    213\u001b[39m     )\n\u001b[32m    214\u001b[39m \u001b[38;5;28;01mraise\u001b[39;00m \u001b[38;5;167;01mValueError\u001b[39;00m(\n\u001b[32m    215\u001b[39m     \u001b[33m\"\u001b[39m\u001b[33mProvide either a layer name or layer index at `get_layer`.\u001b[39m\u001b[33m\"\u001b[39m\n\u001b[32m    216\u001b[39m )\n",
      "\u001b[31mValueError\u001b[39m: No such layer: global_average_pooling2d. Existing layers are: ['input_layer_15', 'sequential_2', 'mobilenetv2_1.00_224', 'global_average_pooling2d_6', 'dropout_6', 'dense_6']."
     ]
    },
    {
     "data": {
      "text/plain": [
       "<Figure size 1500x19000 with 0 Axes>"
      ]
     },
     "metadata": {},
     "output_type": "display_data"
    }
   ],
   "source": [
    "import numpy as np\n",
    "import tensorflow as tf\n",
    "import matplotlib.pyplot as plt\n",
    "from tensorflow.keras.models import Model\n",
    "from tensorflow.keras.layers import Conv2D\n",
    "from tensorflow.keras.applications.mobilenet_v2 import preprocess_input\n",
    "from PIL import Image\n",
    "import os\n",
    "from collections import defaultdict\n",
    "\n",
    "# #######################################################################\n",
    "# 1. HELFERFUNKTION\n",
    "# #######################################################################\n",
    "\n",
    "def format_class_name(label):\n",
    "    \"\"\"Formatiert den Klassennamen für eine bessere Lesbarkeit im Titel.\"\"\"\n",
    "    plant, disease = label.split(\"___\")\n",
    "    return f\"{plant} ({disease.replace('_', ' ')})\"\n",
    "\n",
    "# #######################################################################\n",
    "# 2. KORRIGIERTE GRAD-CAM FUNKTION\n",
    "# #######################################################################\n",
    "\n",
    "def grad_cam(image, model, base_model_name, conv_layer_name):\n",
    "    \"\"\"\n",
    "    Berechnet Grad-CAM robust für Transfer-Learning-Modelle durch manuelle\n",
    "    Rekonstruktion des Graphen.\n",
    "    \"\"\"\n",
    "    # 1. Basismodell und Ziel-Layer holen\n",
    "    base_model = model.get_layer(base_model_name)\n",
    "    conv_layer = base_model.get_layer(conv_layer_name)\n",
    "\n",
    "    # 2. Bild vorbereiten\n",
    "    img_array_expanded = tf.expand_dims(image, axis=0)\n",
    "    preprocessed_img = preprocess_input(tf.cast(img_array_expanded, dtype=tf.float32))\n",
    "\n",
    "    # 3. Temporäres Modell erstellen, das den Graphen korrekt nachzeichnet\n",
    "    intermediate_model = Model(inputs=base_model.inputs, outputs=[conv_layer.output, base_model.output])\n",
    "\n",
    "    # 4. Gradienten mit dem vollständigen Graphen berechnen\n",
    "    with tf.GradientTape() as tape:\n",
    "        conv_outputs, base_model_output = intermediate_model(preprocessed_img)\n",
    "\n",
    "        # WICHTIG: Stellen Sie sicher, dass diese Layernamen mit Ihrer `model.summary()` übereinstimmen!\n",
    "        try:\n",
    "            x = model.get_layer('global_average_pooling2d')(base_model_output)\n",
    "            x = model.get_layer('dropout')(x)\n",
    "            predictions = model.get_layer('dense')(x)\n",
    "        except ValueError as e:\n",
    "            print(f\"FEHLER: Einer der Layer nach dem Basismodell wurde nicht gefunden. Überprüfen Sie die Namen in `model.summary()`.\")\n",
    "            raise e\n",
    "\n",
    "        predicted_class_idx = tf.argmax(predictions[0])\n",
    "        loss = predictions[:, predicted_class_idx]\n",
    "\n",
    "    grads = tape.gradient(loss, conv_outputs)\n",
    "\n",
    "    # 5. Heatmap berechnen und überlagern\n",
    "    pooled_grads = tf.reduce_mean(grads, axis=(0, 1, 2))\n",
    "    conv_outputs = conv_outputs[0]\n",
    "    heatmap = tf.reduce_sum(tf.multiply(pooled_grads, conv_outputs), axis=-1)\n",
    "    heatmap = tf.maximum(heatmap, 0)\n",
    "\n",
    "    if tf.math.reduce_max(heatmap) > 0:\n",
    "        heatmap /= tf.math.reduce_max(heatmap)\n",
    "\n",
    "    heatmap = heatmap.numpy()\n",
    "\n",
    "    heatmap_resized = tf.image.resize(heatmap[..., np.newaxis], (image.shape[0], image.shape[1])).numpy()\n",
    "    heatmap_squeezed = np.squeeze(heatmap_resized, axis=-1)\n",
    "    heatmap_colored = plt.cm.jet(heatmap_squeezed)[..., :3]\n",
    "\n",
    "    superimposed_image = heatmap_colored * 0.5 + (image / 255.0)\n",
    "\n",
    "    return np.clip(superimposed_image, 0, 1), predicted_class_idx.numpy()\n",
    "\n",
    "# #######################################################################\n",
    "# 3. FINALE VISUALISIERUNGSFUNKTION\n",
    "# #######################################################################\n",
    "\n",
    "def show_grad_cam_with_overlay(images, labels, model, class_names, save_dir=None, base_model_name='mobilenetv2_1.00_224'):\n",
    "    \"\"\"\n",
    "    Zeigt für jede Klasse ein Bild mit Grad-CAM-Overlay an und speichert es optional.\n",
    "    \"\"\"\n",
    "    if save_dir:\n",
    "        os.makedirs(save_dir, exist_ok=True)\n",
    "\n",
    "    try:\n",
    "        base_model = model.get_layer(base_model_name)\n",
    "        conv_layers = [layer.name for layer in base_model.layers if isinstance(layer, Conv2D)]\n",
    "        if not conv_layers:\n",
    "            print(f\"Fehler: Kein Conv2D Layer im Basismodell '{base_model_name}' gefunden.\")\n",
    "            return\n",
    "        last_conv_layer_name = conv_layers[-1]\n",
    "        print(f\"Verwende Layer '{last_conv_layer_name}' für Grad-CAM.\")\n",
    "    except ValueError:\n",
    "        print(f\"Fehler: Basismodell '{base_model_name}' nicht gefunden.\")\n",
    "        return\n",
    "\n",
    "    images_by_class = defaultdict(lambda: {'image': None, 'label': None})\n",
    "    for img, label_idx in zip(images, labels):\n",
    "        if images_by_class[label_idx]['image'] is None:\n",
    "            images_by_class[label_idx]['image'] = img\n",
    "            images_by_class[label_idx]['label'] = label_idx\n",
    "\n",
    "    num_classes_to_show = len(images_by_class)\n",
    "    if num_classes_to_show == 0:\n",
    "        print(\"Keine Bilder zum Anzeigen gefunden.\")\n",
    "        return\n",
    "        \n",
    "    plt.figure(figsize=(15, 5 * num_classes_to_show))\n",
    "\n",
    "    class_items = sorted(images_by_class.items())\n",
    "\n",
    "    for i, (label_idx, data) in enumerate(class_items):\n",
    "        img = data['image']\n",
    "        grad_cam_image, predicted_class_idx = grad_cam(img, model, base_model_name, last_conv_layer_name)\n",
    "\n",
    "        true_label_str = format_class_name(class_names[label_idx])\n",
    "        predicted_label_str = format_class_name(class_names[predicted_class_idx])\n",
    "\n",
    "        plt.subplot(num_classes_to_show, 1, i + 1)\n",
    "        plt.title(f'True: {true_label_str}\\nPred: {predicted_label_str}', fontsize=12)\n",
    "        plt.imshow(grad_cam_image)\n",
    "        plt.axis(\"off\")\n",
    "\n",
    "        if save_dir:\n",
    "            filename = f\"{class_names[label_idx]}.jpg\"\n",
    "            filepath = os.path.join(save_dir, filename)\n",
    "            gradcam_uint8 = (grad_cam_image * 255).astype(np.uint8)\n",
    "            Image.fromarray(gradcam_uint8).save(filepath)\n",
    "            print(f\"Gespeichert: {filepath}\")\n",
    "\n",
    "    plt.tight_layout()\n",
    "    plt.show()\n",
    "\n",
    "# #######################################################################\n",
    "# 4. DATEN LADEN & FINALER AUFRUF (Beispiel)\n",
    "# #######################################################################\n",
    "\n",
    "# ANNAHME: Die Variablen `model`, `class_names`, und `dataset_valid`\n",
    "#          sind bereits aus dem Training Ihres Modells vorhanden.\n",
    "\n",
    "# Sammeln von einem repräsentativen Bild pro Klasse aus dem Validierungsdatensatz\n",
    "images_by_class_collector = defaultdict(list)\n",
    "num_samples_per_class = 1\n",
    "\n",
    "for images_batch, labels_batch in dataset_valid:\n",
    "    for img, label in zip(images_batch, labels_batch):\n",
    "        label_int = int(label.numpy())\n",
    "        if len(images_by_class_collector[label_int]) < num_samples_per_class:\n",
    "            images_by_class_collector[label_int].append(img.numpy())\n",
    "    if len(images_by_class_collector) == len(class_names):\n",
    "        break\n",
    "\n",
    "sample_images = np.array([imgs[0] for label, imgs in sorted(images_by_class_collector.items())]).astype(np.uint8)\n",
    "sample_labels = np.array([label for label, imgs in sorted(images_by_class_collector.items())])\n",
    "\n",
    "# Aufruf der finalen Funktion\n",
    "save_path = \"./grad_cam_visuals\"\n",
    "show_grad_cam_with_overlay(sample_images, sample_labels, model, class_names, save_dir=save_path)"
   ]
  },
  {
   "cell_type": "code",
   "execution_count": 33,
   "id": "ad85143c",
   "metadata": {},
   "outputs": [
    {
     "name": "stdout",
     "output_type": "stream",
     "text": [
      "FEHLER: Einer der Layer nach dem Basismodell wurde nicht gefunden. Überprüfen Sie die Namen in `model.summary()`.\n"
     ]
    },
    {
     "ename": "ValueError",
     "evalue": "No such layer: global_average_pooling2d. Existing layers are: ['input_layer_15', 'sequential_2', 'mobilenetv2_1.00_224', 'global_average_pooling2d_6', 'dropout_6', 'dense_6'].",
     "output_type": "error",
     "traceback": [
      "\u001b[31m---------------------------------------------------------------------------\u001b[39m",
      "\u001b[31mValueError\u001b[39m                                Traceback (most recent call last)",
      "\u001b[36mCell\u001b[39m\u001b[36m \u001b[39m\u001b[32mIn[33]\u001b[39m\u001b[32m, line 7\u001b[39m\n\u001b[32m      3\u001b[39m save_path = \u001b[33m\"\u001b[39m\u001b[33m/Users/felix/Documents/Data Science/06_Offical_project_DS/may25_bds_plants/04_src/images_grad_cam/advanced_model\u001b[39m\u001b[33m\"\u001b[39m\n\u001b[32m      5\u001b[39m \u001b[38;5;66;03m#show_grad_cam_cnn(images, labels, model, class_names, save_dir=save_path) #für 4 bilder \u001b[39;00m\n\u001b[32m----> \u001b[39m\u001b[32m7\u001b[39m \u001b[43mshow_grad_cam_cnn\u001b[49m\u001b[43m(\u001b[49m\u001b[43mall_images\u001b[49m\u001b[43m,\u001b[49m\u001b[43m \u001b[49m\u001b[43mall_labels\u001b[49m\u001b[43m,\u001b[49m\u001b[43m \u001b[49m\u001b[43mmodel\u001b[49m\u001b[43m,\u001b[49m\u001b[43m \u001b[49m\u001b[43mclass_names\u001b[49m\u001b[43m,\u001b[49m\u001b[43m \u001b[49m\u001b[43msave_dir\u001b[49m\u001b[43m=\u001b[49m\u001b[43msave_path\u001b[49m\u001b[43m)\u001b[49m \u001b[38;5;66;03m#für alle bilder\u001b[39;00m\n",
      "\u001b[36mCell\u001b[39m\u001b[36m \u001b[39m\u001b[32mIn[28]\u001b[39m\u001b[32m, line 89\u001b[39m, in \u001b[36mshow_grad_cam_cnn\u001b[39m\u001b[34m(images, labels, model, class_names, save_dir, base_model_name)\u001b[39m\n\u001b[32m     86\u001b[39m plt.subplot(number_of_images, \u001b[32m1\u001b[39m, i + \u001b[32m1\u001b[39m)\n\u001b[32m     88\u001b[39m \u001b[38;5;66;03m# Angepasste grad_cam Funktion aufrufen\u001b[39;00m\n\u001b[32m---> \u001b[39m\u001b[32m89\u001b[39m grad_cam_image, predicted_class_idx = \u001b[43mgrad_cam\u001b[49m\u001b[43m(\u001b[49m\u001b[43mimages\u001b[49m\u001b[43m[\u001b[49m\u001b[43mi\u001b[49m\u001b[43m]\u001b[49m\u001b[43m,\u001b[49m\u001b[43m \u001b[49m\u001b[43mmodel\u001b[49m\u001b[43m,\u001b[49m\u001b[43m \u001b[49m\u001b[43mbase_model_name\u001b[49m\u001b[43m,\u001b[49m\u001b[43m \u001b[49m\u001b[43mlast_conv_layer_name\u001b[49m\u001b[43m)\u001b[49m\n\u001b[32m     91\u001b[39m true_label = format_class_name(class_names[labels[i]])\n\u001b[32m     92\u001b[39m predicted_label = format_class_name(class_names[predicted_class_idx])\n",
      "\u001b[36mCell\u001b[39m\u001b[36m \u001b[39m\u001b[32mIn[32]\u001b[39m\u001b[32m, line 51\u001b[39m, in \u001b[36mgrad_cam\u001b[39m\u001b[34m(image, model, base_model_name, conv_layer_name)\u001b[39m\n\u001b[32m     49\u001b[39m \u001b[38;5;28;01mexcept\u001b[39;00m \u001b[38;5;167;01mValueError\u001b[39;00m \u001b[38;5;28;01mas\u001b[39;00m e:\n\u001b[32m     50\u001b[39m     \u001b[38;5;28mprint\u001b[39m(\u001b[33mf\u001b[39m\u001b[33m\"\u001b[39m\u001b[33mFEHLER: Einer der Layer nach dem Basismodell wurde nicht gefunden. Überprüfen Sie die Namen in `model.summary()`.\u001b[39m\u001b[33m\"\u001b[39m)\n\u001b[32m---> \u001b[39m\u001b[32m51\u001b[39m     \u001b[38;5;28;01mraise\u001b[39;00m e\n\u001b[32m     53\u001b[39m predicted_class_idx = tf.argmax(predictions[\u001b[32m0\u001b[39m])\n\u001b[32m     54\u001b[39m loss = predictions[:, predicted_class_idx]\n",
      "\u001b[36mCell\u001b[39m\u001b[36m \u001b[39m\u001b[32mIn[32]\u001b[39m\u001b[32m, line 46\u001b[39m, in \u001b[36mgrad_cam\u001b[39m\u001b[34m(image, model, base_model_name, conv_layer_name)\u001b[39m\n\u001b[32m     44\u001b[39m \u001b[38;5;66;03m# WICHTIG: Stellen Sie sicher, dass diese Layernamen mit Ihrer `model.summary()` übereinstimmen!\u001b[39;00m\n\u001b[32m     45\u001b[39m \u001b[38;5;28;01mtry\u001b[39;00m:\n\u001b[32m---> \u001b[39m\u001b[32m46\u001b[39m     x = \u001b[43mmodel\u001b[49m\u001b[43m.\u001b[49m\u001b[43mget_layer\u001b[49m\u001b[43m(\u001b[49m\u001b[33;43m'\u001b[39;49m\u001b[33;43mglobal_average_pooling2d\u001b[39;49m\u001b[33;43m'\u001b[39;49m\u001b[43m)\u001b[49m(base_model_output)\n\u001b[32m     47\u001b[39m     x = model.get_layer(\u001b[33m'\u001b[39m\u001b[33mdropout\u001b[39m\u001b[33m'\u001b[39m)(x)\n\u001b[32m     48\u001b[39m     predictions = model.get_layer(\u001b[33m'\u001b[39m\u001b[33mdense\u001b[39m\u001b[33m'\u001b[39m)(x)\n",
      "\u001b[36mFile \u001b[39m\u001b[32m~/Documents/Data Science/06_Offical_project_DS/may25_bds_plants/.venv/lib/python3.11/site-packages/keras/src/utils/traceback_utils.py:122\u001b[39m, in \u001b[36mfilter_traceback.<locals>.error_handler\u001b[39m\u001b[34m(*args, **kwargs)\u001b[39m\n\u001b[32m    119\u001b[39m     filtered_tb = _process_traceback_frames(e.__traceback__)\n\u001b[32m    120\u001b[39m     \u001b[38;5;66;03m# To get the full stack trace, call:\u001b[39;00m\n\u001b[32m    121\u001b[39m     \u001b[38;5;66;03m# `keras.config.disable_traceback_filtering()`\u001b[39;00m\n\u001b[32m--> \u001b[39m\u001b[32m122\u001b[39m     \u001b[38;5;28;01mraise\u001b[39;00m e.with_traceback(filtered_tb) \u001b[38;5;28;01mfrom\u001b[39;00m\u001b[38;5;250m \u001b[39m\u001b[38;5;28;01mNone\u001b[39;00m\n\u001b[32m    123\u001b[39m \u001b[38;5;28;01mfinally\u001b[39;00m:\n\u001b[32m    124\u001b[39m     \u001b[38;5;28;01mdel\u001b[39;00m filtered_tb\n",
      "\u001b[36mFile \u001b[39m\u001b[32m~/Documents/Data Science/06_Offical_project_DS/may25_bds_plants/.venv/lib/python3.11/site-packages/keras/src/models/model.py:210\u001b[39m, in \u001b[36mModel.get_layer\u001b[39m\u001b[34m(self, name, index)\u001b[39m\n\u001b[32m    208\u001b[39m         \u001b[38;5;28;01mif\u001b[39;00m layer.name == name:\n\u001b[32m    209\u001b[39m             \u001b[38;5;28;01mreturn\u001b[39;00m layer\n\u001b[32m--> \u001b[39m\u001b[32m210\u001b[39m     \u001b[38;5;28;01mraise\u001b[39;00m \u001b[38;5;167;01mValueError\u001b[39;00m(\n\u001b[32m    211\u001b[39m         \u001b[33mf\u001b[39m\u001b[33m\"\u001b[39m\u001b[33mNo such layer: \u001b[39m\u001b[38;5;132;01m{\u001b[39;00mname\u001b[38;5;132;01m}\u001b[39;00m\u001b[33m. Existing layers are: \u001b[39m\u001b[33m\"\u001b[39m\n\u001b[32m    212\u001b[39m         \u001b[33mf\u001b[39m\u001b[33m\"\u001b[39m\u001b[38;5;132;01m{\u001b[39;00m\u001b[38;5;28mlist\u001b[39m(layer.name\u001b[38;5;250m \u001b[39m\u001b[38;5;28;01mfor\u001b[39;00m\u001b[38;5;250m \u001b[39mlayer\u001b[38;5;250m \u001b[39m\u001b[38;5;129;01min\u001b[39;00m\u001b[38;5;250m \u001b[39m\u001b[38;5;28mself\u001b[39m.layers)\u001b[38;5;132;01m}\u001b[39;00m\u001b[33m.\u001b[39m\u001b[33m\"\u001b[39m\n\u001b[32m    213\u001b[39m     )\n\u001b[32m    214\u001b[39m \u001b[38;5;28;01mraise\u001b[39;00m \u001b[38;5;167;01mValueError\u001b[39;00m(\n\u001b[32m    215\u001b[39m     \u001b[33m\"\u001b[39m\u001b[33mProvide either a layer name or layer index at `get_layer`.\u001b[39m\u001b[33m\"\u001b[39m\n\u001b[32m    216\u001b[39m )\n",
      "\u001b[31mValueError\u001b[39m: No such layer: global_average_pooling2d. Existing layers are: ['input_layer_15', 'sequential_2', 'mobilenetv2_1.00_224', 'global_average_pooling2d_6', 'dropout_6', 'dense_6']."
     ]
    },
    {
     "data": {
      "image/png": "[encoded data removed]",
      "text/plain": [
       "<Figure size 1600x30400 with 1 Axes>"
      ]
     },
     "metadata": {},
     "output_type": "display_data"
    }
   ],
   "source": [
    "#show_grad_cam_cnn(images, model)\n",
    "#save_path = \"/Users/felix/Documents/Data Science/06_Offical_project_DS/may25_bds_plants/04_src/images_grad_cam/advanced_model\"\n",
    "save_path = \"/Users/felix/Documents/Data Science/06_Offical_project_DS/may25_bds_plants/04_src/images_grad_cam/advanced_model\"\n",
    "\n",
    "#show_grad_cam_cnn(images, labels, model, class_names, save_dir=save_path) #für 4 bilder \n",
    "\n",
    "show_grad_cam_cnn(all_images, all_labels, model, class_names, save_dir=save_path) #für alle bilder\n"
   ]
  },
  {
   "cell_type": "code",
   "execution_count": null,
   "id": "958e175d",
   "metadata": {},
   "outputs": [],
   "source": []
  },
  {
   "cell_type": "code",
   "execution_count": 24,
   "id": "ed7cca06",
   "metadata": {},
   "outputs": [],
   "source": [
    "import shap\n",
    "import matplotlib.pyplot as plt\n",
    "import numpy as np\n",
    "import os\n",
    "from PIL import Image\n",
    "from collections import defaultdict\n",
    "\n",
    "def explain_and_save_overlay_per_class(\n",
    "    model,\n",
    "    dataset,                 # tf.data.Dataset\n",
    "    class_names,\n",
    "    save_dir,\n",
    "    max_evals=500,\n",
    "    samples_per_class=2\n",
    "):\n",
    "    os.makedirs(save_dir, exist_ok=True)\n",
    "\n",
    "    # Bilder pro Klasse sammeln\n",
    "    collected = defaultdict(list)\n",
    "\n",
    "    for image, label in dataset.unbatch():\n",
    "        label_index = int(label.numpy())\n",
    "        if len(collected[label_index]) < samples_per_class:\n",
    "            collected[label_index].append(image.numpy())\n",
    "        # Stop early if all classes are full\n",
    "        if all(len(v) >= samples_per_class for v in collected.values()):\n",
    "            break\n",
    "\n",
    "    # Pro Klasse SHAP generieren\n",
    "    for class_index, images in collected.items():\n",
    "        class_name = class_names[class_index]\n",
    "        images = np.stack(images, axis=0)\n",
    "\n",
    "        print(f\"\\n🔍 Klasse: {class_name} | Anzahl Bilder: {len(images)}\")\n",
    "\n",
    "        # SHAP-Erklärer\n",
    "        masker = shap.maskers.Image(\"inpaint_telea\", images[0].shape)\n",
    "        explainer = shap.Explainer(model, masker, output_names=class_names)\n",
    "\n",
    "        shap_values = explainer(\n",
    "            images,\n",
    "            max_evals=max_evals,\n",
    "            outputs=shap.Explanation.argsort.flip[:1]\n",
    "        )\n",
    "\n",
    "        for i, shap_exp in enumerate(shap_values):\n",
    "            img = images[i]\n",
    "\n",
    "            shap_val = shap_exp.values\n",
    "            if isinstance(shap_val, list):\n",
    "                shap_val = shap_val[0]\n",
    "\n",
    "            while shap_val.ndim > 3:\n",
    "                shap_val = np.squeeze(shap_val, axis=-1)\n",
    "\n",
    "            if shap_val.shape != img.shape:\n",
    "                print(f\"❌ Shape mismatch: {shap_val.shape} vs {img.shape}\")\n",
    "                continue\n",
    "\n",
    "            # SHAP-Karte mitteln (H, W)\n",
    "            shap_overlay = shap_val.mean(axis=-1)\n",
    "\n",
    "            # Normalisieren\n",
    "            shap_norm = (shap_overlay - shap_overlay.min()) / (shap_overlay.ptp() + 1e-8)\n",
    "            cmap = plt.get_cmap(\"bwr\")\n",
    "            heatmap = cmap(shap_norm)[:, :, :3]\n",
    "\n",
    "            img_float = img.astype(np.float32) / 255.0\n",
    "            overlay = (0.6 * img_float + 0.4 * heatmap).clip(0, 1)\n",
    "\n",
    "            # Speichern\n",
    "            safe_class_name = class_name.replace('/', '_').replace(' ', '_')\n",
    "            overlay_path = os.path.join(save_dir, f\"{safe_class_name}_img{i+1}_overlay.png\")\n",
    "            original_path = os.path.join(save_dir, f\"{safe_class_name}_img{i+1}_original.png\")\n",
    "\n",
    "            Image.fromarray((overlay * 255).astype(np.uint8)).save(overlay_path)\n",
    "            Image.fromarray(img.astype(np.uint8)).save(original_path)\n",
    "\n",
    "            print(f\"✅ Gespeichert: {overlay_path}\")\n",
    "            print(f\"✅ Gespeichert: {original_path}\")\n"
   ]
  },
  {
   "cell_type": "code",
   "execution_count": 25,
   "id": "4e271403",
   "metadata": {},
   "outputs": [
    {
     "name": "stdout",
     "output_type": "stream",
     "text": [
      "\n",
      "🔍 Klasse: Corn_(maize)___healthy | Anzahl Bilder: 2\n"
     ]
    },
    {
     "name": "stderr",
     "output_type": "stream",
     "text": [
      "/Users/felix/Documents/Data Science/06_Offical_project_DS/may25_bds_plants/.venv/lib/python3.11/site-packages/keras/src/models/functional.py:241: UserWarning: The structure of `inputs` doesn't match the expected structure.\n",
      "Expected: ['input_layer_15']\n",
      "Received: inputs=Tensor(shape=(1, 224, 224, 3))\n",
      "  warnings.warn(msg)\n",
      "/Users/felix/Documents/Data Science/06_Offical_project_DS/may25_bds_plants/.venv/lib/python3.11/site-packages/keras/src/models/functional.py:241: UserWarning: The structure of `inputs` doesn't match the expected structure.\n",
      "Expected: ['input_layer_15']\n",
      "Received: inputs=Tensor(shape=(1, 224, 224, 3))\n",
      "  warnings.warn(msg)\n",
      "/Users/felix/Documents/Data Science/06_Offical_project_DS/may25_bds_plants/.venv/lib/python3.11/site-packages/keras/src/models/functional.py:241: UserWarning: The structure of `inputs` doesn't match the expected structure.\n",
      "Expected: ['input_layer_15']\n",
      "Received: inputs=Tensor(shape=(2, 224, 224, 3))\n",
      "  warnings.warn(msg)\n",
      "/Users/felix/Documents/Data Science/06_Offical_project_DS/may25_bds_plants/.venv/lib/python3.11/site-packages/keras/src/models/functional.py:241: UserWarning: The structure of `inputs` doesn't match the expected structure.\n",
      "Expected: ['input_layer_15']\n",
      "Received: inputs=Tensor(shape=(8, 224, 224, 3))\n",
      "  warnings.warn(msg)\n",
      "/Users/felix/Documents/Data Science/06_Offical_project_DS/may25_bds_plants/.venv/lib/python3.11/site-packages/keras/src/models/functional.py:241: UserWarning: The structure of `inputs` doesn't match the expected structure.\n",
      "Expected: ['input_layer_15']\n",
      "Received: inputs=Tensor(shape=(10, 224, 224, 3))\n",
      "  warnings.warn(msg)\n"
     ]
    },
    {
     "data": {
      "application/vnd.jupyter.widget-view+json": {
       "model_id": "d36491e950e24e7abae96890bb2e81c2",
       "version_major": 2,
       "version_minor": 0
      },
      "text/plain": [
       "  0%|          | 0/498 [00:00<?, ?it/s]"
      ]
     },
     "metadata": {},
     "output_type": "display_data"
    },
    {
     "name": "stderr",
     "output_type": "stream",
     "text": [
      "PartitionExplainer explainer:  50%|█████     | 1/2 [00:00<?, ?it/s]/Users/felix/Documents/Data Science/06_Offical_project_DS/may25_bds_plants/.venv/lib/python3.11/site-packages/keras/src/models/functional.py:241: UserWarning: The structure of `inputs` doesn't match the expected structure.\n",
      "Expected: ['input_layer_15']\n",
      "Received: inputs=Tensor(shape=(1, 224, 224, 3))\n",
      "  warnings.warn(msg)\n",
      "/Users/felix/Documents/Data Science/06_Offical_project_DS/may25_bds_plants/.venv/lib/python3.11/site-packages/keras/src/models/functional.py:241: UserWarning: The structure of `inputs` doesn't match the expected structure.\n",
      "Expected: ['input_layer_15']\n",
      "Received: inputs=Tensor(shape=(2, 224, 224, 3))\n",
      "  warnings.warn(msg)\n",
      "/Users/felix/Documents/Data Science/06_Offical_project_DS/may25_bds_plants/.venv/lib/python3.11/site-packages/keras/src/models/functional.py:241: UserWarning: The structure of `inputs` doesn't match the expected structure.\n",
      "Expected: ['input_layer_15']\n",
      "Received: inputs=Tensor(shape=(8, 224, 224, 3))\n",
      "  warnings.warn(msg)\n",
      "/Users/felix/Documents/Data Science/06_Offical_project_DS/may25_bds_plants/.venv/lib/python3.11/site-packages/keras/src/models/functional.py:241: UserWarning: The structure of `inputs` doesn't match the expected structure.\n",
      "Expected: ['input_layer_15']\n",
      "Received: inputs=Tensor(shape=(10, 224, 224, 3))\n",
      "  warnings.warn(msg)\n"
     ]
    },
    {
     "data": {
      "application/vnd.jupyter.widget-view+json": {
       "model_id": "402d6b351784413ea9dae219c2a678d2",
       "version_major": 2,
       "version_minor": 0
      },
      "text/plain": [
       "  0%|          | 0/498 [00:00<?, ?it/s]"
      ]
     },
     "metadata": {},
     "output_type": "display_data"
    },
    {
     "name": "stderr",
     "output_type": "stream",
     "text": [
      "PartitionExplainer explainer: 3it [00:57, 28.63s/it]               \n"
     ]
    },
    {
     "name": "stdout",
     "output_type": "stream",
     "text": [
      "✅ Gespeichert: /Users/felix/Documents/Data Science/06_Offical_project_DS/may25_bds_plants/04_src/images_shap/advanced_model/Corn_(maize)___healthy_img1_overlay.png\n",
      "✅ Gespeichert: /Users/felix/Documents/Data Science/06_Offical_project_DS/may25_bds_plants/04_src/images_shap/advanced_model/Corn_(maize)___healthy_img1_original.png\n",
      "✅ Gespeichert: /Users/felix/Documents/Data Science/06_Offical_project_DS/may25_bds_plants/04_src/images_shap/advanced_model/Corn_(maize)___healthy_img2_overlay.png\n",
      "✅ Gespeichert: /Users/felix/Documents/Data Science/06_Offical_project_DS/may25_bds_plants/04_src/images_shap/advanced_model/Corn_(maize)___healthy_img2_original.png\n",
      "\n",
      "🔍 Klasse: Tomato___Tomato_mosaic_virus | Anzahl Bilder: 2\n"
     ]
    },
    {
     "data": {
      "application/vnd.jupyter.widget-view+json": {
       "model_id": "def64bed3c99447bbfbf921f56f53df9",
       "version_major": 2,
       "version_minor": 0
      },
      "text/plain": [
       "  0%|          | 0/498 [00:00<?, ?it/s]"
      ]
     },
     "metadata": {},
     "output_type": "display_data"
    },
    {
     "name": "stderr",
     "output_type": "stream",
     "text": [
      "PartitionExplainer explainer:  50%|█████     | 1/2 [00:00<?, ?it/s]"
     ]
    },
    {
     "data": {
      "application/vnd.jupyter.widget-view+json": {
       "model_id": "5f280c7059f440f09c49f966c5a61476",
       "version_major": 2,
       "version_minor": 0
      },
      "text/plain": [
       "  0%|          | 0/498 [00:00<?, ?it/s]"
      ]
     },
     "metadata": {},
     "output_type": "display_data"
    },
    {
     "name": "stderr",
     "output_type": "stream",
     "text": [
      "PartitionExplainer explainer: 3it [00:52, 26.49s/it]               \n"
     ]
    },
    {
     "name": "stdout",
     "output_type": "stream",
     "text": [
      "✅ Gespeichert: /Users/felix/Documents/Data Science/06_Offical_project_DS/may25_bds_plants/04_src/images_shap/advanced_model/Tomato___Tomato_mosaic_virus_img1_overlay.png\n",
      "✅ Gespeichert: /Users/felix/Documents/Data Science/06_Offical_project_DS/may25_bds_plants/04_src/images_shap/advanced_model/Tomato___Tomato_mosaic_virus_img1_original.png\n",
      "✅ Gespeichert: /Users/felix/Documents/Data Science/06_Offical_project_DS/may25_bds_plants/04_src/images_shap/advanced_model/Tomato___Tomato_mosaic_virus_img2_overlay.png\n",
      "✅ Gespeichert: /Users/felix/Documents/Data Science/06_Offical_project_DS/may25_bds_plants/04_src/images_shap/advanced_model/Tomato___Tomato_mosaic_virus_img2_original.png\n",
      "\n",
      "🔍 Klasse: Tomato___Bacterial_spot | Anzahl Bilder: 2\n"
     ]
    },
    {
     "data": {
      "application/vnd.jupyter.widget-view+json": {
       "model_id": "ee6c7f2d87f940c29cd846bc5e19253c",
       "version_major": 2,
       "version_minor": 0
      },
      "text/plain": [
       "  0%|          | 0/498 [00:00<?, ?it/s]"
      ]
     },
     "metadata": {},
     "output_type": "display_data"
    },
    {
     "name": "stderr",
     "output_type": "stream",
     "text": [
      "PartitionExplainer explainer:  50%|█████     | 1/2 [00:00<?, ?it/s]"
     ]
    },
    {
     "data": {
      "application/vnd.jupyter.widget-view+json": {
       "model_id": "01f224cb456b4c10b205164891cda31e",
       "version_major": 2,
       "version_minor": 0
      },
      "text/plain": [
       "  0%|          | 0/498 [00:00<?, ?it/s]"
      ]
     },
     "metadata": {},
     "output_type": "display_data"
    },
    {
     "name": "stderr",
     "output_type": "stream",
     "text": [
      "PartitionExplainer explainer: 3it [00:37, 18.70s/it]               \n"
     ]
    },
    {
     "name": "stdout",
     "output_type": "stream",
     "text": [
      "✅ Gespeichert: /Users/felix/Documents/Data Science/06_Offical_project_DS/may25_bds_plants/04_src/images_shap/advanced_model/Tomato___Bacterial_spot_img1_overlay.png\n",
      "✅ Gespeichert: /Users/felix/Documents/Data Science/06_Offical_project_DS/may25_bds_plants/04_src/images_shap/advanced_model/Tomato___Bacterial_spot_img1_original.png\n",
      "✅ Gespeichert: /Users/felix/Documents/Data Science/06_Offical_project_DS/may25_bds_plants/04_src/images_shap/advanced_model/Tomato___Bacterial_spot_img2_overlay.png\n",
      "✅ Gespeichert: /Users/felix/Documents/Data Science/06_Offical_project_DS/may25_bds_plants/04_src/images_shap/advanced_model/Tomato___Bacterial_spot_img2_original.png\n",
      "\n",
      "🔍 Klasse: Squash___Powdery_mildew | Anzahl Bilder: 2\n"
     ]
    },
    {
     "data": {
      "application/vnd.jupyter.widget-view+json": {
       "model_id": "4122a5518ed840e9bd537ff11e4d5ca0",
       "version_major": 2,
       "version_minor": 0
      },
      "text/plain": [
       "  0%|          | 0/498 [00:00<?, ?it/s]"
      ]
     },
     "metadata": {},
     "output_type": "display_data"
    },
    {
     "name": "stderr",
     "output_type": "stream",
     "text": [
      "PartitionExplainer explainer:  50%|█████     | 1/2 [00:00<?, ?it/s]"
     ]
    },
    {
     "data": {
      "application/vnd.jupyter.widget-view+json": {
       "model_id": "753daf1bf30844d68e6ba3858be2f4d3",
       "version_major": 2,
       "version_minor": 0
      },
      "text/plain": [
       "  0%|          | 0/498 [00:00<?, ?it/s]"
      ]
     },
     "metadata": {},
     "output_type": "display_data"
    },
    {
     "name": "stderr",
     "output_type": "stream",
     "text": [
      "PartitionExplainer explainer: 3it [00:47, 23.96s/it]               \n"
     ]
    },
    {
     "name": "stdout",
     "output_type": "stream",
     "text": [
      "✅ Gespeichert: /Users/felix/Documents/Data Science/06_Offical_project_DS/may25_bds_plants/04_src/images_shap/advanced_model/Squash___Powdery_mildew_img1_overlay.png\n",
      "✅ Gespeichert: /Users/felix/Documents/Data Science/06_Offical_project_DS/may25_bds_plants/04_src/images_shap/advanced_model/Squash___Powdery_mildew_img1_original.png\n",
      "✅ Gespeichert: /Users/felix/Documents/Data Science/06_Offical_project_DS/may25_bds_plants/04_src/images_shap/advanced_model/Squash___Powdery_mildew_img2_overlay.png\n",
      "✅ Gespeichert: /Users/felix/Documents/Data Science/06_Offical_project_DS/may25_bds_plants/04_src/images_shap/advanced_model/Squash___Powdery_mildew_img2_original.png\n",
      "\n",
      "🔍 Klasse: Grape___Esca_(Black_Measles) | Anzahl Bilder: 2\n"
     ]
    },
    {
     "data": {
      "application/vnd.jupyter.widget-view+json": {
       "model_id": "2801cef2c4ee4e459d5ff2b79fe2ab02",
       "version_major": 2,
       "version_minor": 0
      },
      "text/plain": [
       "  0%|          | 0/498 [00:00<?, ?it/s]"
      ]
     },
     "metadata": {},
     "output_type": "display_data"
    },
    {
     "name": "stderr",
     "output_type": "stream",
     "text": [
      "PartitionExplainer explainer:  50%|█████     | 1/2 [00:00<?, ?it/s]"
     ]
    },
    {
     "data": {
      "application/vnd.jupyter.widget-view+json": {
       "model_id": "7ce5a437101b47a69532ab1013d34747",
       "version_major": 2,
       "version_minor": 0
      },
      "text/plain": [
       "  0%|          | 0/498 [00:00<?, ?it/s]"
      ]
     },
     "metadata": {},
     "output_type": "display_data"
    },
    {
     "name": "stderr",
     "output_type": "stream",
     "text": [
      "PartitionExplainer explainer: 3it [00:41, 20.70s/it]               \n"
     ]
    },
    {
     "name": "stdout",
     "output_type": "stream",
     "text": [
      "✅ Gespeichert: /Users/felix/Documents/Data Science/06_Offical_project_DS/may25_bds_plants/04_src/images_shap/advanced_model/Grape___Esca_(Black_Measles)_img1_overlay.png\n",
      "✅ Gespeichert: /Users/felix/Documents/Data Science/06_Offical_project_DS/may25_bds_plants/04_src/images_shap/advanced_model/Grape___Esca_(Black_Measles)_img1_original.png\n",
      "✅ Gespeichert: /Users/felix/Documents/Data Science/06_Offical_project_DS/may25_bds_plants/04_src/images_shap/advanced_model/Grape___Esca_(Black_Measles)_img2_overlay.png\n",
      "✅ Gespeichert: /Users/felix/Documents/Data Science/06_Offical_project_DS/may25_bds_plants/04_src/images_shap/advanced_model/Grape___Esca_(Black_Measles)_img2_original.png\n",
      "\n",
      "🔍 Klasse: Peach___Bacterial_spot | Anzahl Bilder: 2\n"
     ]
    },
    {
     "data": {
      "application/vnd.jupyter.widget-view+json": {
       "model_id": "e8868ea86d2341c1a9e27e250b9471bf",
       "version_major": 2,
       "version_minor": 0
      },
      "text/plain": [
       "  0%|          | 0/498 [00:00<?, ?it/s]"
      ]
     },
     "metadata": {},
     "output_type": "display_data"
    },
    {
     "name": "stderr",
     "output_type": "stream",
     "text": [
      "PartitionExplainer explainer:  50%|█████     | 1/2 [00:00<?, ?it/s]"
     ]
    },
    {
     "data": {
      "application/vnd.jupyter.widget-view+json": {
       "model_id": "a4d97cea43384ea29aae90293d0c9c5b",
       "version_major": 2,
       "version_minor": 0
      },
      "text/plain": [
       "  0%|          | 0/498 [00:00<?, ?it/s]"
      ]
     },
     "metadata": {},
     "output_type": "display_data"
    },
    {
     "name": "stderr",
     "output_type": "stream",
     "text": [
      "PartitionExplainer explainer: 3it [00:51, 25.77s/it]               \n"
     ]
    },
    {
     "name": "stdout",
     "output_type": "stream",
     "text": [
      "✅ Gespeichert: /Users/felix/Documents/Data Science/06_Offical_project_DS/may25_bds_plants/04_src/images_shap/advanced_model/Peach___Bacterial_spot_img1_overlay.png\n",
      "✅ Gespeichert: /Users/felix/Documents/Data Science/06_Offical_project_DS/may25_bds_plants/04_src/images_shap/advanced_model/Peach___Bacterial_spot_img1_original.png\n",
      "✅ Gespeichert: /Users/felix/Documents/Data Science/06_Offical_project_DS/may25_bds_plants/04_src/images_shap/advanced_model/Peach___Bacterial_spot_img2_overlay.png\n",
      "✅ Gespeichert: /Users/felix/Documents/Data Science/06_Offical_project_DS/may25_bds_plants/04_src/images_shap/advanced_model/Peach___Bacterial_spot_img2_original.png\n",
      "\n",
      "🔍 Klasse: Cherry_(including_sour)___healthy | Anzahl Bilder: 2\n"
     ]
    },
    {
     "data": {
      "application/vnd.jupyter.widget-view+json": {
       "model_id": "48d0b8a37668408b9387970183198dff",
       "version_major": 2,
       "version_minor": 0
      },
      "text/plain": [
       "  0%|          | 0/498 [00:00<?, ?it/s]"
      ]
     },
     "metadata": {},
     "output_type": "display_data"
    },
    {
     "name": "stderr",
     "output_type": "stream",
     "text": [
      "PartitionExplainer explainer:  50%|█████     | 1/2 [00:00<?, ?it/s]"
     ]
    },
    {
     "data": {
      "application/vnd.jupyter.widget-view+json": {
       "model_id": "0ad3c9e589514e2497378f22afbd7fe7",
       "version_major": 2,
       "version_minor": 0
      },
      "text/plain": [
       "  0%|          | 0/498 [00:00<?, ?it/s]"
      ]
     },
     "metadata": {},
     "output_type": "display_data"
    },
    {
     "name": "stderr",
     "output_type": "stream",
     "text": [
      "PartitionExplainer explainer: 3it [00:44, 22.29s/it]               \n"
     ]
    },
    {
     "name": "stdout",
     "output_type": "stream",
     "text": [
      "✅ Gespeichert: /Users/felix/Documents/Data Science/06_Offical_project_DS/may25_bds_plants/04_src/images_shap/advanced_model/Cherry_(including_sour)___healthy_img1_overlay.png\n",
      "✅ Gespeichert: /Users/felix/Documents/Data Science/06_Offical_project_DS/may25_bds_plants/04_src/images_shap/advanced_model/Cherry_(including_sour)___healthy_img1_original.png\n",
      "✅ Gespeichert: /Users/felix/Documents/Data Science/06_Offical_project_DS/may25_bds_plants/04_src/images_shap/advanced_model/Cherry_(including_sour)___healthy_img2_overlay.png\n",
      "✅ Gespeichert: /Users/felix/Documents/Data Science/06_Offical_project_DS/may25_bds_plants/04_src/images_shap/advanced_model/Cherry_(including_sour)___healthy_img2_original.png\n",
      "\n",
      "🔍 Klasse: Tomato___Late_blight | Anzahl Bilder: 2\n"
     ]
    },
    {
     "data": {
      "application/vnd.jupyter.widget-view+json": {
       "model_id": "d80e7c3d4c8c4e0ba552b8e0f57d0301",
       "version_major": 2,
       "version_minor": 0
      },
      "text/plain": [
       "  0%|          | 0/498 [00:00<?, ?it/s]"
      ]
     },
     "metadata": {},
     "output_type": "display_data"
    },
    {
     "name": "stderr",
     "output_type": "stream",
     "text": [
      "PartitionExplainer explainer:  50%|█████     | 1/2 [00:00<?, ?it/s]"
     ]
    },
    {
     "data": {
      "application/vnd.jupyter.widget-view+json": {
       "model_id": "bc5a901d758e45d3ac8b11e5eaca1c4d",
       "version_major": 2,
       "version_minor": 0
      },
      "text/plain": [
       "  0%|          | 0/498 [00:00<?, ?it/s]"
      ]
     },
     "metadata": {},
     "output_type": "display_data"
    },
    {
     "name": "stderr",
     "output_type": "stream",
     "text": [
      "PartitionExplainer explainer: 3it [00:52, 26.45s/it]               \n"
     ]
    },
    {
     "name": "stdout",
     "output_type": "stream",
     "text": [
      "✅ Gespeichert: /Users/felix/Documents/Data Science/06_Offical_project_DS/may25_bds_plants/04_src/images_shap/advanced_model/Tomato___Late_blight_img1_overlay.png\n",
      "✅ Gespeichert: /Users/felix/Documents/Data Science/06_Offical_project_DS/may25_bds_plants/04_src/images_shap/advanced_model/Tomato___Late_blight_img1_original.png\n",
      "✅ Gespeichert: /Users/felix/Documents/Data Science/06_Offical_project_DS/may25_bds_plants/04_src/images_shap/advanced_model/Tomato___Late_blight_img2_overlay.png\n",
      "✅ Gespeichert: /Users/felix/Documents/Data Science/06_Offical_project_DS/may25_bds_plants/04_src/images_shap/advanced_model/Tomato___Late_blight_img2_original.png\n",
      "\n",
      "🔍 Klasse: Tomato___Early_blight | Anzahl Bilder: 2\n"
     ]
    },
    {
     "data": {
      "application/vnd.jupyter.widget-view+json": {
       "model_id": "a12b005e3c4d4cbab6429f33e736432d",
       "version_major": 2,
       "version_minor": 0
      },
      "text/plain": [
       "  0%|          | 0/498 [00:00<?, ?it/s]"
      ]
     },
     "metadata": {},
     "output_type": "display_data"
    },
    {
     "name": "stderr",
     "output_type": "stream",
     "text": [
      "PartitionExplainer explainer:  50%|█████     | 1/2 [00:00<?, ?it/s]"
     ]
    },
    {
     "data": {
      "application/vnd.jupyter.widget-view+json": {
       "model_id": "9c679733bd3243fcb76934d9337dad81",
       "version_major": 2,
       "version_minor": 0
      },
      "text/plain": [
       "  0%|          | 0/498 [00:00<?, ?it/s]"
      ]
     },
     "metadata": {},
     "output_type": "display_data"
    },
    {
     "name": "stderr",
     "output_type": "stream",
     "text": [
      "PartitionExplainer explainer: 3it [00:39, 19.78s/it]               \n"
     ]
    },
    {
     "name": "stdout",
     "output_type": "stream",
     "text": [
      "✅ Gespeichert: /Users/felix/Documents/Data Science/06_Offical_project_DS/may25_bds_plants/04_src/images_shap/advanced_model/Tomato___Early_blight_img1_overlay.png\n",
      "✅ Gespeichert: /Users/felix/Documents/Data Science/06_Offical_project_DS/may25_bds_plants/04_src/images_shap/advanced_model/Tomato___Early_blight_img1_original.png\n",
      "✅ Gespeichert: /Users/felix/Documents/Data Science/06_Offical_project_DS/may25_bds_plants/04_src/images_shap/advanced_model/Tomato___Early_blight_img2_overlay.png\n",
      "✅ Gespeichert: /Users/felix/Documents/Data Science/06_Offical_project_DS/may25_bds_plants/04_src/images_shap/advanced_model/Tomato___Early_blight_img2_original.png\n",
      "\n",
      "🔍 Klasse: Peach___healthy | Anzahl Bilder: 2\n"
     ]
    },
    {
     "data": {
      "application/vnd.jupyter.widget-view+json": {
       "model_id": "c73bcdf1f0d04f5898624c0a80a2dce1",
       "version_major": 2,
       "version_minor": 0
      },
      "text/plain": [
       "  0%|          | 0/498 [00:00<?, ?it/s]"
      ]
     },
     "metadata": {},
     "output_type": "display_data"
    },
    {
     "name": "stderr",
     "output_type": "stream",
     "text": [
      "PartitionExplainer explainer:  50%|█████     | 1/2 [00:00<?, ?it/s]"
     ]
    },
    {
     "data": {
      "application/vnd.jupyter.widget-view+json": {
       "model_id": "93fce347db3848b98448a7c78c2287ee",
       "version_major": 2,
       "version_minor": 0
      },
      "text/plain": [
       "  0%|          | 0/498 [00:00<?, ?it/s]"
      ]
     },
     "metadata": {},
     "output_type": "display_data"
    },
    {
     "name": "stderr",
     "output_type": "stream",
     "text": [
      "PartitionExplainer explainer: 3it [00:45, 22.99s/it]               \n"
     ]
    },
    {
     "name": "stdout",
     "output_type": "stream",
     "text": [
      "✅ Gespeichert: /Users/felix/Documents/Data Science/06_Offical_project_DS/may25_bds_plants/04_src/images_shap/advanced_model/Peach___healthy_img1_overlay.png\n",
      "✅ Gespeichert: /Users/felix/Documents/Data Science/06_Offical_project_DS/may25_bds_plants/04_src/images_shap/advanced_model/Peach___healthy_img1_original.png\n",
      "✅ Gespeichert: /Users/felix/Documents/Data Science/06_Offical_project_DS/may25_bds_plants/04_src/images_shap/advanced_model/Peach___healthy_img2_overlay.png\n",
      "✅ Gespeichert: /Users/felix/Documents/Data Science/06_Offical_project_DS/may25_bds_plants/04_src/images_shap/advanced_model/Peach___healthy_img2_original.png\n",
      "\n",
      "🔍 Klasse: Corn_(maize)___Northern_Leaf_Blight | Anzahl Bilder: 2\n"
     ]
    },
    {
     "data": {
      "application/vnd.jupyter.widget-view+json": {
       "model_id": "a02e2743e7f9428f8878a43310bdf6ce",
       "version_major": 2,
       "version_minor": 0
      },
      "text/plain": [
       "  0%|          | 0/498 [00:00<?, ?it/s]"
      ]
     },
     "metadata": {},
     "output_type": "display_data"
    },
    {
     "name": "stderr",
     "output_type": "stream",
     "text": [
      "PartitionExplainer explainer:  50%|█████     | 1/2 [00:00<?, ?it/s]"
     ]
    },
    {
     "data": {
      "application/vnd.jupyter.widget-view+json": {
       "model_id": "d55c336b25694d1da5661a054e3a02c6",
       "version_major": 2,
       "version_minor": 0
      },
      "text/plain": [
       "  0%|          | 0/498 [00:00<?, ?it/s]"
      ]
     },
     "metadata": {},
     "output_type": "display_data"
    },
    {
     "name": "stderr",
     "output_type": "stream",
     "text": [
      "PartitionExplainer explainer: 3it [00:47, 23.78s/it]               \n"
     ]
    },
    {
     "name": "stdout",
     "output_type": "stream",
     "text": [
      "✅ Gespeichert: /Users/felix/Documents/Data Science/06_Offical_project_DS/may25_bds_plants/04_src/images_shap/advanced_model/Corn_(maize)___Northern_Leaf_Blight_img1_overlay.png\n",
      "✅ Gespeichert: /Users/felix/Documents/Data Science/06_Offical_project_DS/may25_bds_plants/04_src/images_shap/advanced_model/Corn_(maize)___Northern_Leaf_Blight_img1_original.png\n",
      "✅ Gespeichert: /Users/felix/Documents/Data Science/06_Offical_project_DS/may25_bds_plants/04_src/images_shap/advanced_model/Corn_(maize)___Northern_Leaf_Blight_img2_overlay.png\n",
      "✅ Gespeichert: /Users/felix/Documents/Data Science/06_Offical_project_DS/may25_bds_plants/04_src/images_shap/advanced_model/Corn_(maize)___Northern_Leaf_Blight_img2_original.png\n",
      "\n",
      "🔍 Klasse: Tomato___Spider_mites Two-spotted_spider_mite | Anzahl Bilder: 2\n"
     ]
    },
    {
     "data": {
      "application/vnd.jupyter.widget-view+json": {
       "model_id": "39fd758c3d6d4639949f4bf458655774",
       "version_major": 2,
       "version_minor": 0
      },
      "text/plain": [
       "  0%|          | 0/498 [00:00<?, ?it/s]"
      ]
     },
     "metadata": {},
     "output_type": "display_data"
    },
    {
     "name": "stderr",
     "output_type": "stream",
     "text": [
      "PartitionExplainer explainer:  50%|█████     | 1/2 [00:00<?, ?it/s]"
     ]
    },
    {
     "data": {
      "application/vnd.jupyter.widget-view+json": {
       "model_id": "e455bec907f6415b9472c91c9c736eed",
       "version_major": 2,
       "version_minor": 0
      },
      "text/plain": [
       "  0%|          | 0/498 [00:00<?, ?it/s]"
      ]
     },
     "metadata": {},
     "output_type": "display_data"
    },
    {
     "name": "stderr",
     "output_type": "stream",
     "text": [
      "PartitionExplainer explainer: 3it [00:46, 23.12s/it]               \n"
     ]
    },
    {
     "name": "stdout",
     "output_type": "stream",
     "text": [
      "✅ Gespeichert: /Users/felix/Documents/Data Science/06_Offical_project_DS/may25_bds_plants/04_src/images_shap/advanced_model/Tomato___Spider_mites_Two-spotted_spider_mite_img1_overlay.png\n",
      "✅ Gespeichert: /Users/felix/Documents/Data Science/06_Offical_project_DS/may25_bds_plants/04_src/images_shap/advanced_model/Tomato___Spider_mites_Two-spotted_spider_mite_img1_original.png\n",
      "✅ Gespeichert: /Users/felix/Documents/Data Science/06_Offical_project_DS/may25_bds_plants/04_src/images_shap/advanced_model/Tomato___Spider_mites_Two-spotted_spider_mite_img2_overlay.png\n",
      "✅ Gespeichert: /Users/felix/Documents/Data Science/06_Offical_project_DS/may25_bds_plants/04_src/images_shap/advanced_model/Tomato___Spider_mites_Two-spotted_spider_mite_img2_original.png\n",
      "\n",
      "🔍 Klasse: Pepper,_bell___healthy | Anzahl Bilder: 2\n"
     ]
    },
    {
     "data": {
      "application/vnd.jupyter.widget-view+json": {
       "model_id": "d72a0d542b7342a19fdadbce04b70a1c",
       "version_major": 2,
       "version_minor": 0
      },
      "text/plain": [
       "  0%|          | 0/498 [00:00<?, ?it/s]"
      ]
     },
     "metadata": {},
     "output_type": "display_data"
    },
    {
     "name": "stderr",
     "output_type": "stream",
     "text": [
      "PartitionExplainer explainer:  50%|█████     | 1/2 [00:00<?, ?it/s]"
     ]
    },
    {
     "data": {
      "application/vnd.jupyter.widget-view+json": {
       "model_id": "cacf0539b9f6415298324301c20796d7",
       "version_major": 2,
       "version_minor": 0
      },
      "text/plain": [
       "  0%|          | 0/498 [00:00<?, ?it/s]"
      ]
     },
     "metadata": {},
     "output_type": "display_data"
    },
    {
     "name": "stderr",
     "output_type": "stream",
     "text": [
      "PartitionExplainer explainer: 3it [00:46, 23.25s/it]               \n"
     ]
    },
    {
     "name": "stdout",
     "output_type": "stream",
     "text": [
      "✅ Gespeichert: /Users/felix/Documents/Data Science/06_Offical_project_DS/may25_bds_plants/04_src/images_shap/advanced_model/Pepper,_bell___healthy_img1_overlay.png\n",
      "✅ Gespeichert: /Users/felix/Documents/Data Science/06_Offical_project_DS/may25_bds_plants/04_src/images_shap/advanced_model/Pepper,_bell___healthy_img1_original.png\n",
      "✅ Gespeichert: /Users/felix/Documents/Data Science/06_Offical_project_DS/may25_bds_plants/04_src/images_shap/advanced_model/Pepper,_bell___healthy_img2_overlay.png\n",
      "✅ Gespeichert: /Users/felix/Documents/Data Science/06_Offical_project_DS/may25_bds_plants/04_src/images_shap/advanced_model/Pepper,_bell___healthy_img2_original.png\n",
      "\n",
      "🔍 Klasse: Tomato___healthy | Anzahl Bilder: 2\n"
     ]
    },
    {
     "data": {
      "application/vnd.jupyter.widget-view+json": {
       "model_id": "498874d37110422297d796ecbf23bb94",
       "version_major": 2,
       "version_minor": 0
      },
      "text/plain": [
       "  0%|          | 0/498 [00:00<?, ?it/s]"
      ]
     },
     "metadata": {},
     "output_type": "display_data"
    },
    {
     "name": "stderr",
     "output_type": "stream",
     "text": [
      "PartitionExplainer explainer:  50%|█████     | 1/2 [00:00<?, ?it/s]"
     ]
    },
    {
     "data": {
      "application/vnd.jupyter.widget-view+json": {
       "model_id": "04d46d3c297a4d279dc396ca24087603",
       "version_major": 2,
       "version_minor": 0
      },
      "text/plain": [
       "  0%|          | 0/498 [00:00<?, ?it/s]"
      ]
     },
     "metadata": {},
     "output_type": "display_data"
    },
    {
     "name": "stderr",
     "output_type": "stream",
     "text": [
      "PartitionExplainer explainer: 3it [00:43, 21.57s/it]               \n"
     ]
    },
    {
     "name": "stdout",
     "output_type": "stream",
     "text": [
      "✅ Gespeichert: /Users/felix/Documents/Data Science/06_Offical_project_DS/may25_bds_plants/04_src/images_shap/advanced_model/Tomato___healthy_img1_overlay.png\n",
      "✅ Gespeichert: /Users/felix/Documents/Data Science/06_Offical_project_DS/may25_bds_plants/04_src/images_shap/advanced_model/Tomato___healthy_img1_original.png\n",
      "✅ Gespeichert: /Users/felix/Documents/Data Science/06_Offical_project_DS/may25_bds_plants/04_src/images_shap/advanced_model/Tomato___healthy_img2_overlay.png\n",
      "✅ Gespeichert: /Users/felix/Documents/Data Science/06_Offical_project_DS/may25_bds_plants/04_src/images_shap/advanced_model/Tomato___healthy_img2_original.png\n",
      "\n",
      "🔍 Klasse: Strawberry___healthy | Anzahl Bilder: 2\n"
     ]
    },
    {
     "data": {
      "application/vnd.jupyter.widget-view+json": {
       "model_id": "4482951f57034d7c8a2e0ec6e401c9bc",
       "version_major": 2,
       "version_minor": 0
      },
      "text/plain": [
       "  0%|          | 0/498 [00:00<?, ?it/s]"
      ]
     },
     "metadata": {},
     "output_type": "display_data"
    },
    {
     "name": "stderr",
     "output_type": "stream",
     "text": [
      "PartitionExplainer explainer:  50%|█████     | 1/2 [00:00<?, ?it/s]"
     ]
    },
    {
     "data": {
      "application/vnd.jupyter.widget-view+json": {
       "model_id": "efd93dc8a7be4d8ebeb8b70974f5b4ed",
       "version_major": 2,
       "version_minor": 0
      },
      "text/plain": [
       "  0%|          | 0/498 [00:00<?, ?it/s]"
      ]
     },
     "metadata": {},
     "output_type": "display_data"
    },
    {
     "name": "stderr",
     "output_type": "stream",
     "text": [
      "PartitionExplainer explainer: 3it [00:44, 22.32s/it]               \n"
     ]
    },
    {
     "name": "stdout",
     "output_type": "stream",
     "text": [
      "✅ Gespeichert: /Users/felix/Documents/Data Science/06_Offical_project_DS/may25_bds_plants/04_src/images_shap/advanced_model/Strawberry___healthy_img1_overlay.png\n",
      "✅ Gespeichert: /Users/felix/Documents/Data Science/06_Offical_project_DS/may25_bds_plants/04_src/images_shap/advanced_model/Strawberry___healthy_img1_original.png\n",
      "✅ Gespeichert: /Users/felix/Documents/Data Science/06_Offical_project_DS/may25_bds_plants/04_src/images_shap/advanced_model/Strawberry___healthy_img2_overlay.png\n",
      "✅ Gespeichert: /Users/felix/Documents/Data Science/06_Offical_project_DS/may25_bds_plants/04_src/images_shap/advanced_model/Strawberry___healthy_img2_original.png\n",
      "\n",
      "🔍 Klasse: Tomato___Leaf_Mold | Anzahl Bilder: 2\n"
     ]
    },
    {
     "data": {
      "application/vnd.jupyter.widget-view+json": {
       "model_id": "4f3d2a4e9f2a42cfa2bdf332e6f42f7d",
       "version_major": 2,
       "version_minor": 0
      },
      "text/plain": [
       "  0%|          | 0/498 [00:00<?, ?it/s]"
      ]
     },
     "metadata": {},
     "output_type": "display_data"
    },
    {
     "name": "stderr",
     "output_type": "stream",
     "text": [
      "PartitionExplainer explainer:  50%|█████     | 1/2 [00:00<?, ?it/s]"
     ]
    },
    {
     "data": {
      "application/vnd.jupyter.widget-view+json": {
       "model_id": "c85a34af2feb42ac99048814daa58bf1",
       "version_major": 2,
       "version_minor": 0
      },
      "text/plain": [
       "  0%|          | 0/498 [00:00<?, ?it/s]"
      ]
     },
     "metadata": {},
     "output_type": "display_data"
    },
    {
     "name": "stderr",
     "output_type": "stream",
     "text": [
      "PartitionExplainer explainer: 3it [00:45, 22.68s/it]               \n"
     ]
    },
    {
     "name": "stdout",
     "output_type": "stream",
     "text": [
      "✅ Gespeichert: /Users/felix/Documents/Data Science/06_Offical_project_DS/may25_bds_plants/04_src/images_shap/advanced_model/Tomato___Leaf_Mold_img1_overlay.png\n",
      "✅ Gespeichert: /Users/felix/Documents/Data Science/06_Offical_project_DS/may25_bds_plants/04_src/images_shap/advanced_model/Tomato___Leaf_Mold_img1_original.png\n",
      "✅ Gespeichert: /Users/felix/Documents/Data Science/06_Offical_project_DS/may25_bds_plants/04_src/images_shap/advanced_model/Tomato___Leaf_Mold_img2_overlay.png\n",
      "✅ Gespeichert: /Users/felix/Documents/Data Science/06_Offical_project_DS/may25_bds_plants/04_src/images_shap/advanced_model/Tomato___Leaf_Mold_img2_original.png\n",
      "\n",
      "🔍 Klasse: Potato___Early_blight | Anzahl Bilder: 2\n"
     ]
    },
    {
     "data": {
      "application/vnd.jupyter.widget-view+json": {
       "model_id": "cd9a497ec3014ed3b8b8dc3e3348c123",
       "version_major": 2,
       "version_minor": 0
      },
      "text/plain": [
       "  0%|          | 0/498 [00:00<?, ?it/s]"
      ]
     },
     "metadata": {},
     "output_type": "display_data"
    },
    {
     "name": "stderr",
     "output_type": "stream",
     "text": [
      "PartitionExplainer explainer:  50%|█████     | 1/2 [00:00<?, ?it/s]"
     ]
    },
    {
     "data": {
      "application/vnd.jupyter.widget-view+json": {
       "model_id": "314a94b354ca410b8e762d8c6ade2649",
       "version_major": 2,
       "version_minor": 0
      },
      "text/plain": [
       "  0%|          | 0/498 [00:00<?, ?it/s]"
      ]
     },
     "metadata": {},
     "output_type": "display_data"
    },
    {
     "name": "stderr",
     "output_type": "stream",
     "text": [
      "PartitionExplainer explainer: 3it [00:46, 23.41s/it]               \n"
     ]
    },
    {
     "name": "stdout",
     "output_type": "stream",
     "text": [
      "✅ Gespeichert: /Users/felix/Documents/Data Science/06_Offical_project_DS/may25_bds_plants/04_src/images_shap/advanced_model/Potato___Early_blight_img1_overlay.png\n",
      "✅ Gespeichert: /Users/felix/Documents/Data Science/06_Offical_project_DS/may25_bds_plants/04_src/images_shap/advanced_model/Potato___Early_blight_img1_original.png\n",
      "✅ Gespeichert: /Users/felix/Documents/Data Science/06_Offical_project_DS/may25_bds_plants/04_src/images_shap/advanced_model/Potato___Early_blight_img2_overlay.png\n",
      "✅ Gespeichert: /Users/felix/Documents/Data Science/06_Offical_project_DS/may25_bds_plants/04_src/images_shap/advanced_model/Potato___Early_blight_img2_original.png\n",
      "\n",
      "🔍 Klasse: Grape___healthy | Anzahl Bilder: 2\n"
     ]
    },
    {
     "data": {
      "application/vnd.jupyter.widget-view+json": {
       "model_id": "5965957149014b49927969679f48016b",
       "version_major": 2,
       "version_minor": 0
      },
      "text/plain": [
       "  0%|          | 0/498 [00:00<?, ?it/s]"
      ]
     },
     "metadata": {},
     "output_type": "display_data"
    },
    {
     "name": "stderr",
     "output_type": "stream",
     "text": [
      "PartitionExplainer explainer:  50%|█████     | 1/2 [00:00<?, ?it/s]"
     ]
    },
    {
     "data": {
      "application/vnd.jupyter.widget-view+json": {
       "model_id": "7f22b7d624a6451a815b2c975c7547ee",
       "version_major": 2,
       "version_minor": 0
      },
      "text/plain": [
       "  0%|          | 0/498 [00:00<?, ?it/s]"
      ]
     },
     "metadata": {},
     "output_type": "display_data"
    },
    {
     "name": "stderr",
     "output_type": "stream",
     "text": [
      "PartitionExplainer explainer: 3it [00:45, 22.65s/it]               \n"
     ]
    },
    {
     "name": "stdout",
     "output_type": "stream",
     "text": [
      "✅ Gespeichert: /Users/felix/Documents/Data Science/06_Offical_project_DS/may25_bds_plants/04_src/images_shap/advanced_model/Grape___healthy_img1_overlay.png\n",
      "✅ Gespeichert: /Users/felix/Documents/Data Science/06_Offical_project_DS/may25_bds_plants/04_src/images_shap/advanced_model/Grape___healthy_img1_original.png\n",
      "✅ Gespeichert: /Users/felix/Documents/Data Science/06_Offical_project_DS/may25_bds_plants/04_src/images_shap/advanced_model/Grape___healthy_img2_overlay.png\n",
      "✅ Gespeichert: /Users/felix/Documents/Data Science/06_Offical_project_DS/may25_bds_plants/04_src/images_shap/advanced_model/Grape___healthy_img2_original.png\n",
      "\n",
      "🔍 Klasse: Soybean___healthy | Anzahl Bilder: 2\n"
     ]
    },
    {
     "data": {
      "application/vnd.jupyter.widget-view+json": {
       "model_id": "ef870b0a68154a5eb25415a302aec311",
       "version_major": 2,
       "version_minor": 0
      },
      "text/plain": [
       "  0%|          | 0/498 [00:00<?, ?it/s]"
      ]
     },
     "metadata": {},
     "output_type": "display_data"
    },
    {
     "name": "stderr",
     "output_type": "stream",
     "text": [
      "PartitionExplainer explainer:  50%|█████     | 1/2 [00:00<?, ?it/s]"
     ]
    },
    {
     "data": {
      "application/vnd.jupyter.widget-view+json": {
       "model_id": "7e97191c64be4757a090f2ca8b45b5bd",
       "version_major": 2,
       "version_minor": 0
      },
      "text/plain": [
       "  0%|          | 0/498 [00:00<?, ?it/s]"
      ]
     },
     "metadata": {},
     "output_type": "display_data"
    },
    {
     "name": "stderr",
     "output_type": "stream",
     "text": [
      "PartitionExplainer explainer: 3it [00:40, 20.12s/it]               \n"
     ]
    },
    {
     "name": "stdout",
     "output_type": "stream",
     "text": [
      "✅ Gespeichert: /Users/felix/Documents/Data Science/06_Offical_project_DS/may25_bds_plants/04_src/images_shap/advanced_model/Soybean___healthy_img1_overlay.png\n",
      "✅ Gespeichert: /Users/felix/Documents/Data Science/06_Offical_project_DS/may25_bds_plants/04_src/images_shap/advanced_model/Soybean___healthy_img1_original.png\n",
      "✅ Gespeichert: /Users/felix/Documents/Data Science/06_Offical_project_DS/may25_bds_plants/04_src/images_shap/advanced_model/Soybean___healthy_img2_overlay.png\n",
      "✅ Gespeichert: /Users/felix/Documents/Data Science/06_Offical_project_DS/may25_bds_plants/04_src/images_shap/advanced_model/Soybean___healthy_img2_original.png\n",
      "\n",
      "🔍 Klasse: Grape___Black_rot | Anzahl Bilder: 2\n"
     ]
    },
    {
     "data": {
      "application/vnd.jupyter.widget-view+json": {
       "model_id": "f77b181fbe964e15b709ee2dcbafd409",
       "version_major": 2,
       "version_minor": 0
      },
      "text/plain": [
       "  0%|          | 0/498 [00:00<?, ?it/s]"
      ]
     },
     "metadata": {},
     "output_type": "display_data"
    },
    {
     "name": "stderr",
     "output_type": "stream",
     "text": [
      "PartitionExplainer explainer:  50%|█████     | 1/2 [00:00<?, ?it/s]"
     ]
    },
    {
     "data": {
      "application/vnd.jupyter.widget-view+json": {
       "model_id": "ac9fee7eae264f95b5dc21154119a4a5",
       "version_major": 2,
       "version_minor": 0
      },
      "text/plain": [
       "  0%|          | 0/498 [00:00<?, ?it/s]"
      ]
     },
     "metadata": {},
     "output_type": "display_data"
    },
    {
     "name": "stderr",
     "output_type": "stream",
     "text": [
      "PartitionExplainer explainer: 3it [00:44, 22.45s/it]               \n"
     ]
    },
    {
     "name": "stdout",
     "output_type": "stream",
     "text": [
      "✅ Gespeichert: /Users/felix/Documents/Data Science/06_Offical_project_DS/may25_bds_plants/04_src/images_shap/advanced_model/Grape___Black_rot_img1_overlay.png\n",
      "✅ Gespeichert: /Users/felix/Documents/Data Science/06_Offical_project_DS/may25_bds_plants/04_src/images_shap/advanced_model/Grape___Black_rot_img1_original.png\n",
      "✅ Gespeichert: /Users/felix/Documents/Data Science/06_Offical_project_DS/may25_bds_plants/04_src/images_shap/advanced_model/Grape___Black_rot_img2_overlay.png\n",
      "✅ Gespeichert: /Users/felix/Documents/Data Science/06_Offical_project_DS/may25_bds_plants/04_src/images_shap/advanced_model/Grape___Black_rot_img2_original.png\n",
      "\n",
      "🔍 Klasse: Corn_(maize)___Common_rust_ | Anzahl Bilder: 2\n"
     ]
    },
    {
     "data": {
      "application/vnd.jupyter.widget-view+json": {
       "model_id": "bc299cd995f745f1b549e143a8be73f8",
       "version_major": 2,
       "version_minor": 0
      },
      "text/plain": [
       "  0%|          | 0/498 [00:00<?, ?it/s]"
      ]
     },
     "metadata": {},
     "output_type": "display_data"
    },
    {
     "name": "stderr",
     "output_type": "stream",
     "text": [
      "PartitionExplainer explainer:  50%|█████     | 1/2 [00:00<?, ?it/s]"
     ]
    },
    {
     "data": {
      "application/vnd.jupyter.widget-view+json": {
       "model_id": "6440a23e7cff4f538826c71dac877128",
       "version_major": 2,
       "version_minor": 0
      },
      "text/plain": [
       "  0%|          | 0/498 [00:00<?, ?it/s]"
      ]
     },
     "metadata": {},
     "output_type": "display_data"
    },
    {
     "name": "stderr",
     "output_type": "stream",
     "text": [
      "PartitionExplainer explainer: 3it [00:50, 25.06s/it]               \n"
     ]
    },
    {
     "name": "stdout",
     "output_type": "stream",
     "text": [
      "✅ Gespeichert: /Users/felix/Documents/Data Science/06_Offical_project_DS/may25_bds_plants/04_src/images_shap/advanced_model/Corn_(maize)___Common_rust__img1_overlay.png\n",
      "✅ Gespeichert: /Users/felix/Documents/Data Science/06_Offical_project_DS/may25_bds_plants/04_src/images_shap/advanced_model/Corn_(maize)___Common_rust__img1_original.png\n",
      "✅ Gespeichert: /Users/felix/Documents/Data Science/06_Offical_project_DS/may25_bds_plants/04_src/images_shap/advanced_model/Corn_(maize)___Common_rust__img2_overlay.png\n",
      "✅ Gespeichert: /Users/felix/Documents/Data Science/06_Offical_project_DS/may25_bds_plants/04_src/images_shap/advanced_model/Corn_(maize)___Common_rust__img2_original.png\n",
      "\n",
      "🔍 Klasse: Tomato___Tomato_Yellow_Leaf_Curl_Virus | Anzahl Bilder: 2\n"
     ]
    },
    {
     "data": {
      "application/vnd.jupyter.widget-view+json": {
       "model_id": "6c2fe57a961d457ea6160b5d7269d841",
       "version_major": 2,
       "version_minor": 0
      },
      "text/plain": [
       "  0%|          | 0/498 [00:00<?, ?it/s]"
      ]
     },
     "metadata": {},
     "output_type": "display_data"
    },
    {
     "name": "stderr",
     "output_type": "stream",
     "text": [
      "PartitionExplainer explainer:  50%|█████     | 1/2 [00:00<?, ?it/s]"
     ]
    },
    {
     "data": {
      "application/vnd.jupyter.widget-view+json": {
       "model_id": "0cbd248e45ac4d55bb3692a8bae66229",
       "version_major": 2,
       "version_minor": 0
      },
      "text/plain": [
       "  0%|          | 0/498 [00:00<?, ?it/s]"
      ]
     },
     "metadata": {},
     "output_type": "display_data"
    },
    {
     "name": "stderr",
     "output_type": "stream",
     "text": [
      "PartitionExplainer explainer: 3it [00:44, 22.35s/it]               \n"
     ]
    },
    {
     "name": "stdout",
     "output_type": "stream",
     "text": [
      "✅ Gespeichert: /Users/felix/Documents/Data Science/06_Offical_project_DS/may25_bds_plants/04_src/images_shap/advanced_model/Tomato___Tomato_Yellow_Leaf_Curl_Virus_img1_overlay.png\n",
      "✅ Gespeichert: /Users/felix/Documents/Data Science/06_Offical_project_DS/may25_bds_plants/04_src/images_shap/advanced_model/Tomato___Tomato_Yellow_Leaf_Curl_Virus_img1_original.png\n",
      "✅ Gespeichert: /Users/felix/Documents/Data Science/06_Offical_project_DS/may25_bds_plants/04_src/images_shap/advanced_model/Tomato___Tomato_Yellow_Leaf_Curl_Virus_img2_overlay.png\n",
      "✅ Gespeichert: /Users/felix/Documents/Data Science/06_Offical_project_DS/may25_bds_plants/04_src/images_shap/advanced_model/Tomato___Tomato_Yellow_Leaf_Curl_Virus_img2_original.png\n",
      "\n",
      "🔍 Klasse: Potato___Late_blight | Anzahl Bilder: 2\n"
     ]
    },
    {
     "data": {
      "application/vnd.jupyter.widget-view+json": {
       "model_id": "db954811fe74483f8f6f657d59655025",
       "version_major": 2,
       "version_minor": 0
      },
      "text/plain": [
       "  0%|          | 0/498 [00:00<?, ?it/s]"
      ]
     },
     "metadata": {},
     "output_type": "display_data"
    },
    {
     "name": "stderr",
     "output_type": "stream",
     "text": [
      "PartitionExplainer explainer:  50%|█████     | 1/2 [00:00<?, ?it/s]"
     ]
    },
    {
     "data": {
      "application/vnd.jupyter.widget-view+json": {
       "model_id": "1467284eb8a240dfb821fbf5d9eab422",
       "version_major": 2,
       "version_minor": 0
      },
      "text/plain": [
       "  0%|          | 0/498 [00:00<?, ?it/s]"
      ]
     },
     "metadata": {},
     "output_type": "display_data"
    },
    {
     "name": "stderr",
     "output_type": "stream",
     "text": [
      "PartitionExplainer explainer: 3it [00:37, 18.68s/it]               \n"
     ]
    },
    {
     "name": "stdout",
     "output_type": "stream",
     "text": [
      "✅ Gespeichert: /Users/felix/Documents/Data Science/06_Offical_project_DS/may25_bds_plants/04_src/images_shap/advanced_model/Potato___Late_blight_img1_overlay.png\n",
      "✅ Gespeichert: /Users/felix/Documents/Data Science/06_Offical_project_DS/may25_bds_plants/04_src/images_shap/advanced_model/Potato___Late_blight_img1_original.png\n",
      "✅ Gespeichert: /Users/felix/Documents/Data Science/06_Offical_project_DS/may25_bds_plants/04_src/images_shap/advanced_model/Potato___Late_blight_img2_overlay.png\n",
      "✅ Gespeichert: /Users/felix/Documents/Data Science/06_Offical_project_DS/may25_bds_plants/04_src/images_shap/advanced_model/Potato___Late_blight_img2_original.png\n",
      "\n",
      "🔍 Klasse: Apple___Apple_scab | Anzahl Bilder: 2\n"
     ]
    },
    {
     "data": {
      "application/vnd.jupyter.widget-view+json": {
       "model_id": "e98c5f3958af48b584d1d465381e0f52",
       "version_major": 2,
       "version_minor": 0
      },
      "text/plain": [
       "  0%|          | 0/498 [00:00<?, ?it/s]"
      ]
     },
     "metadata": {},
     "output_type": "display_data"
    },
    {
     "name": "stderr",
     "output_type": "stream",
     "text": [
      "PartitionExplainer explainer:  50%|█████     | 1/2 [00:00<?, ?it/s]"
     ]
    },
    {
     "data": {
      "application/vnd.jupyter.widget-view+json": {
       "model_id": "ef3119b74f634f17bf1923e9ce74a18b",
       "version_major": 2,
       "version_minor": 0
      },
      "text/plain": [
       "  0%|          | 0/498 [00:00<?, ?it/s]"
      ]
     },
     "metadata": {},
     "output_type": "display_data"
    },
    {
     "name": "stderr",
     "output_type": "stream",
     "text": [
      "PartitionExplainer explainer: 3it [00:48, 24.29s/it]               \n"
     ]
    },
    {
     "name": "stdout",
     "output_type": "stream",
     "text": [
      "✅ Gespeichert: /Users/felix/Documents/Data Science/06_Offical_project_DS/may25_bds_plants/04_src/images_shap/advanced_model/Apple___Apple_scab_img1_overlay.png\n",
      "✅ Gespeichert: /Users/felix/Documents/Data Science/06_Offical_project_DS/may25_bds_plants/04_src/images_shap/advanced_model/Apple___Apple_scab_img1_original.png\n",
      "✅ Gespeichert: /Users/felix/Documents/Data Science/06_Offical_project_DS/may25_bds_plants/04_src/images_shap/advanced_model/Apple___Apple_scab_img2_overlay.png\n",
      "✅ Gespeichert: /Users/felix/Documents/Data Science/06_Offical_project_DS/may25_bds_plants/04_src/images_shap/advanced_model/Apple___Apple_scab_img2_original.png\n",
      "\n",
      "🔍 Klasse: Orange___Haunglongbing_(Citrus_greening) | Anzahl Bilder: 2\n"
     ]
    },
    {
     "data": {
      "application/vnd.jupyter.widget-view+json": {
       "model_id": "15cb18f1c460485e9aea6167cb5806ba",
       "version_major": 2,
       "version_minor": 0
      },
      "text/plain": [
       "  0%|          | 0/498 [00:00<?, ?it/s]"
      ]
     },
     "metadata": {},
     "output_type": "display_data"
    },
    {
     "name": "stderr",
     "output_type": "stream",
     "text": [
      "PartitionExplainer explainer:  50%|█████     | 1/2 [00:00<?, ?it/s]"
     ]
    },
    {
     "data": {
      "application/vnd.jupyter.widget-view+json": {
       "model_id": "a7d1f00e66844449a265d643ed0ed72d",
       "version_major": 2,
       "version_minor": 0
      },
      "text/plain": [
       "  0%|          | 0/498 [00:00<?, ?it/s]"
      ]
     },
     "metadata": {},
     "output_type": "display_data"
    },
    {
     "name": "stderr",
     "output_type": "stream",
     "text": [
      "PartitionExplainer explainer: 3it [00:43, 21.82s/it]               \n"
     ]
    },
    {
     "name": "stdout",
     "output_type": "stream",
     "text": [
      "✅ Gespeichert: /Users/felix/Documents/Data Science/06_Offical_project_DS/may25_bds_plants/04_src/images_shap/advanced_model/Orange___Haunglongbing_(Citrus_greening)_img1_overlay.png\n",
      "✅ Gespeichert: /Users/felix/Documents/Data Science/06_Offical_project_DS/may25_bds_plants/04_src/images_shap/advanced_model/Orange___Haunglongbing_(Citrus_greening)_img1_original.png\n",
      "✅ Gespeichert: /Users/felix/Documents/Data Science/06_Offical_project_DS/may25_bds_plants/04_src/images_shap/advanced_model/Orange___Haunglongbing_(Citrus_greening)_img2_overlay.png\n",
      "✅ Gespeichert: /Users/felix/Documents/Data Science/06_Offical_project_DS/may25_bds_plants/04_src/images_shap/advanced_model/Orange___Haunglongbing_(Citrus_greening)_img2_original.png\n",
      "\n",
      "🔍 Klasse: Tomato___Target_Spot | Anzahl Bilder: 2\n"
     ]
    },
    {
     "data": {
      "application/vnd.jupyter.widget-view+json": {
       "model_id": "0d6502557e004f64a4758223056909c2",
       "version_major": 2,
       "version_minor": 0
      },
      "text/plain": [
       "  0%|          | 0/498 [00:00<?, ?it/s]"
      ]
     },
     "metadata": {},
     "output_type": "display_data"
    },
    {
     "name": "stderr",
     "output_type": "stream",
     "text": [
      "PartitionExplainer explainer:  50%|█████     | 1/2 [00:00<?, ?it/s]"
     ]
    },
    {
     "data": {
      "application/vnd.jupyter.widget-view+json": {
       "model_id": "023e7815f8264f6a941cf46a3aba1ece",
       "version_major": 2,
       "version_minor": 0
      },
      "text/plain": [
       "  0%|          | 0/498 [00:00<?, ?it/s]"
      ]
     },
     "metadata": {},
     "output_type": "display_data"
    },
    {
     "name": "stderr",
     "output_type": "stream",
     "text": [
      "PartitionExplainer explainer: 3it [00:41, 20.64s/it]               \n"
     ]
    },
    {
     "name": "stdout",
     "output_type": "stream",
     "text": [
      "✅ Gespeichert: /Users/felix/Documents/Data Science/06_Offical_project_DS/may25_bds_plants/04_src/images_shap/advanced_model/Tomato___Target_Spot_img1_overlay.png\n",
      "✅ Gespeichert: /Users/felix/Documents/Data Science/06_Offical_project_DS/may25_bds_plants/04_src/images_shap/advanced_model/Tomato___Target_Spot_img1_original.png\n",
      "✅ Gespeichert: /Users/felix/Documents/Data Science/06_Offical_project_DS/may25_bds_plants/04_src/images_shap/advanced_model/Tomato___Target_Spot_img2_overlay.png\n",
      "✅ Gespeichert: /Users/felix/Documents/Data Science/06_Offical_project_DS/may25_bds_plants/04_src/images_shap/advanced_model/Tomato___Target_Spot_img2_original.png\n",
      "\n",
      "🔍 Klasse: Tomato___Septoria_leaf_spot | Anzahl Bilder: 2\n"
     ]
    },
    {
     "data": {
      "application/vnd.jupyter.widget-view+json": {
       "model_id": "1f1c9d78f3ab4eaca5a11a9f91098271",
       "version_major": 2,
       "version_minor": 0
      },
      "text/plain": [
       "  0%|          | 0/498 [00:00<?, ?it/s]"
      ]
     },
     "metadata": {},
     "output_type": "display_data"
    },
    {
     "name": "stderr",
     "output_type": "stream",
     "text": [
      "PartitionExplainer explainer:  50%|█████     | 1/2 [00:00<?, ?it/s]"
     ]
    },
    {
     "data": {
      "application/vnd.jupyter.widget-view+json": {
       "model_id": "db1df5a61f774a7789418e57ba382058",
       "version_major": 2,
       "version_minor": 0
      },
      "text/plain": [
       "  0%|          | 0/498 [00:00<?, ?it/s]"
      ]
     },
     "metadata": {},
     "output_type": "display_data"
    },
    {
     "name": "stderr",
     "output_type": "stream",
     "text": [
      "PartitionExplainer explainer: 3it [00:47, 23.52s/it]               \n"
     ]
    },
    {
     "name": "stdout",
     "output_type": "stream",
     "text": [
      "✅ Gespeichert: /Users/felix/Documents/Data Science/06_Offical_project_DS/may25_bds_plants/04_src/images_shap/advanced_model/Tomato___Septoria_leaf_spot_img1_overlay.png\n",
      "✅ Gespeichert: /Users/felix/Documents/Data Science/06_Offical_project_DS/may25_bds_plants/04_src/images_shap/advanced_model/Tomato___Septoria_leaf_spot_img1_original.png\n",
      "✅ Gespeichert: /Users/felix/Documents/Data Science/06_Offical_project_DS/may25_bds_plants/04_src/images_shap/advanced_model/Tomato___Septoria_leaf_spot_img2_overlay.png\n",
      "✅ Gespeichert: /Users/felix/Documents/Data Science/06_Offical_project_DS/may25_bds_plants/04_src/images_shap/advanced_model/Tomato___Septoria_leaf_spot_img2_original.png\n",
      "\n",
      "🔍 Klasse: Pepper,_bell___Bacterial_spot | Anzahl Bilder: 2\n"
     ]
    },
    {
     "data": {
      "application/vnd.jupyter.widget-view+json": {
       "model_id": "104e1170a21b4d898910f8d039ceb102",
       "version_major": 2,
       "version_minor": 0
      },
      "text/plain": [
       "  0%|          | 0/498 [00:00<?, ?it/s]"
      ]
     },
     "metadata": {},
     "output_type": "display_data"
    },
    {
     "name": "stderr",
     "output_type": "stream",
     "text": [
      "PartitionExplainer explainer:  50%|█████     | 1/2 [00:00<?, ?it/s]"
     ]
    },
    {
     "data": {
      "application/vnd.jupyter.widget-view+json": {
       "model_id": "0157afcd5ea8495faeb58b4e7eae4e7d",
       "version_major": 2,
       "version_minor": 0
      },
      "text/plain": [
       "  0%|          | 0/498 [00:00<?, ?it/s]"
      ]
     },
     "metadata": {},
     "output_type": "display_data"
    },
    {
     "name": "stderr",
     "output_type": "stream",
     "text": [
      "PartitionExplainer explainer: 3it [00:42, 21.39s/it]               \n"
     ]
    },
    {
     "name": "stdout",
     "output_type": "stream",
     "text": [
      "✅ Gespeichert: /Users/felix/Documents/Data Science/06_Offical_project_DS/may25_bds_plants/04_src/images_shap/advanced_model/Pepper,_bell___Bacterial_spot_img1_overlay.png\n",
      "✅ Gespeichert: /Users/felix/Documents/Data Science/06_Offical_project_DS/may25_bds_plants/04_src/images_shap/advanced_model/Pepper,_bell___Bacterial_spot_img1_original.png\n",
      "✅ Gespeichert: /Users/felix/Documents/Data Science/06_Offical_project_DS/may25_bds_plants/04_src/images_shap/advanced_model/Pepper,_bell___Bacterial_spot_img2_overlay.png\n",
      "✅ Gespeichert: /Users/felix/Documents/Data Science/06_Offical_project_DS/may25_bds_plants/04_src/images_shap/advanced_model/Pepper,_bell___Bacterial_spot_img2_original.png\n",
      "\n",
      "🔍 Klasse: Corn_(maize)___Cercospora_leaf_spot Gray_leaf_spot | Anzahl Bilder: 2\n"
     ]
    },
    {
     "data": {
      "application/vnd.jupyter.widget-view+json": {
       "model_id": "ae0f02c8698c49608310b56c3400ca96",
       "version_major": 2,
       "version_minor": 0
      },
      "text/plain": [
       "  0%|          | 0/498 [00:00<?, ?it/s]"
      ]
     },
     "metadata": {},
     "output_type": "display_data"
    },
    {
     "name": "stderr",
     "output_type": "stream",
     "text": [
      "PartitionExplainer explainer:  50%|█████     | 1/2 [00:00<?, ?it/s]"
     ]
    },
    {
     "data": {
      "application/vnd.jupyter.widget-view+json": {
       "model_id": "142fac7cd8674690aea9072c66e12e2b",
       "version_major": 2,
       "version_minor": 0
      },
      "text/plain": [
       "  0%|          | 0/498 [00:00<?, ?it/s]"
      ]
     },
     "metadata": {},
     "output_type": "display_data"
    },
    {
     "name": "stderr",
     "output_type": "stream",
     "text": [
      "PartitionExplainer explainer: 3it [00:46, 23.08s/it]               \n"
     ]
    },
    {
     "name": "stdout",
     "output_type": "stream",
     "text": [
      "✅ Gespeichert: /Users/felix/Documents/Data Science/06_Offical_project_DS/may25_bds_plants/04_src/images_shap/advanced_model/Corn_(maize)___Cercospora_leaf_spot_Gray_leaf_spot_img1_overlay.png\n",
      "✅ Gespeichert: /Users/felix/Documents/Data Science/06_Offical_project_DS/may25_bds_plants/04_src/images_shap/advanced_model/Corn_(maize)___Cercospora_leaf_spot_Gray_leaf_spot_img1_original.png\n",
      "✅ Gespeichert: /Users/felix/Documents/Data Science/06_Offical_project_DS/may25_bds_plants/04_src/images_shap/advanced_model/Corn_(maize)___Cercospora_leaf_spot_Gray_leaf_spot_img2_overlay.png\n",
      "✅ Gespeichert: /Users/felix/Documents/Data Science/06_Offical_project_DS/may25_bds_plants/04_src/images_shap/advanced_model/Corn_(maize)___Cercospora_leaf_spot_Gray_leaf_spot_img2_original.png\n",
      "\n",
      "🔍 Klasse: Apple___healthy | Anzahl Bilder: 2\n"
     ]
    },
    {
     "data": {
      "application/vnd.jupyter.widget-view+json": {
       "model_id": "5f50f2ae75e44bcfa248253407ddad40",
       "version_major": 2,
       "version_minor": 0
      },
      "text/plain": [
       "  0%|          | 0/498 [00:00<?, ?it/s]"
      ]
     },
     "metadata": {},
     "output_type": "display_data"
    },
    {
     "name": "stderr",
     "output_type": "stream",
     "text": [
      "PartitionExplainer explainer:  50%|█████     | 1/2 [00:00<?, ?it/s]"
     ]
    },
    {
     "data": {
      "application/vnd.jupyter.widget-view+json": {
       "model_id": "39a5e99c920b4c70a37050f9c6779b2d",
       "version_major": 2,
       "version_minor": 0
      },
      "text/plain": [
       "  0%|          | 0/498 [00:00<?, ?it/s]"
      ]
     },
     "metadata": {},
     "output_type": "display_data"
    },
    {
     "name": "stderr",
     "output_type": "stream",
     "text": [
      "PartitionExplainer explainer: 3it [00:50, 25.24s/it]               \n"
     ]
    },
    {
     "name": "stdout",
     "output_type": "stream",
     "text": [
      "✅ Gespeichert: /Users/felix/Documents/Data Science/06_Offical_project_DS/may25_bds_plants/04_src/images_shap/advanced_model/Apple___healthy_img1_overlay.png\n",
      "✅ Gespeichert: /Users/felix/Documents/Data Science/06_Offical_project_DS/may25_bds_plants/04_src/images_shap/advanced_model/Apple___healthy_img1_original.png\n",
      "✅ Gespeichert: /Users/felix/Documents/Data Science/06_Offical_project_DS/may25_bds_plants/04_src/images_shap/advanced_model/Apple___healthy_img2_overlay.png\n",
      "✅ Gespeichert: /Users/felix/Documents/Data Science/06_Offical_project_DS/may25_bds_plants/04_src/images_shap/advanced_model/Apple___healthy_img2_original.png\n",
      "\n",
      "🔍 Klasse: Cherry_(including_sour)___Powdery_mildew | Anzahl Bilder: 2\n"
     ]
    },
    {
     "data": {
      "application/vnd.jupyter.widget-view+json": {
       "model_id": "74024a403a744633a5b1c658b9902688",
       "version_major": 2,
       "version_minor": 0
      },
      "text/plain": [
       "  0%|          | 0/498 [00:00<?, ?it/s]"
      ]
     },
     "metadata": {},
     "output_type": "display_data"
    },
    {
     "name": "stderr",
     "output_type": "stream",
     "text": [
      "PartitionExplainer explainer:  50%|█████     | 1/2 [00:00<?, ?it/s]"
     ]
    },
    {
     "data": {
      "application/vnd.jupyter.widget-view+json": {
       "model_id": "94d2326d0a6b4381a71707c2d4ee82e5",
       "version_major": 2,
       "version_minor": 0
      },
      "text/plain": [
       "  0%|          | 0/498 [00:00<?, ?it/s]"
      ]
     },
     "metadata": {},
     "output_type": "display_data"
    },
    {
     "name": "stderr",
     "output_type": "stream",
     "text": [
      "PartitionExplainer explainer: 3it [00:49, 24.75s/it]               \n"
     ]
    },
    {
     "name": "stdout",
     "output_type": "stream",
     "text": [
      "✅ Gespeichert: /Users/felix/Documents/Data Science/06_Offical_project_DS/may25_bds_plants/04_src/images_shap/advanced_model/Cherry_(including_sour)___Powdery_mildew_img1_overlay.png\n",
      "✅ Gespeichert: /Users/felix/Documents/Data Science/06_Offical_project_DS/may25_bds_plants/04_src/images_shap/advanced_model/Cherry_(including_sour)___Powdery_mildew_img1_original.png\n",
      "✅ Gespeichert: /Users/felix/Documents/Data Science/06_Offical_project_DS/may25_bds_plants/04_src/images_shap/advanced_model/Cherry_(including_sour)___Powdery_mildew_img2_overlay.png\n",
      "✅ Gespeichert: /Users/felix/Documents/Data Science/06_Offical_project_DS/may25_bds_plants/04_src/images_shap/advanced_model/Cherry_(including_sour)___Powdery_mildew_img2_original.png\n",
      "\n",
      "🔍 Klasse: Strawberry___Leaf_scorch | Anzahl Bilder: 2\n"
     ]
    },
    {
     "data": {
      "application/vnd.jupyter.widget-view+json": {
       "model_id": "51d842e0e6054334b41bcbb642cc1e9e",
       "version_major": 2,
       "version_minor": 0
      },
      "text/plain": [
       "  0%|          | 0/498 [00:00<?, ?it/s]"
      ]
     },
     "metadata": {},
     "output_type": "display_data"
    },
    {
     "name": "stderr",
     "output_type": "stream",
     "text": [
      "PartitionExplainer explainer:  50%|█████     | 1/2 [00:00<?, ?it/s]"
     ]
    },
    {
     "data": {
      "application/vnd.jupyter.widget-view+json": {
       "model_id": "c2269d7e87864f9b8a91daddb57d5470",
       "version_major": 2,
       "version_minor": 0
      },
      "text/plain": [
       "  0%|          | 0/498 [00:00<?, ?it/s]"
      ]
     },
     "metadata": {},
     "output_type": "display_data"
    },
    {
     "name": "stderr",
     "output_type": "stream",
     "text": [
      "PartitionExplainer explainer: 3it [00:45, 22.64s/it]               \n"
     ]
    },
    {
     "name": "stdout",
     "output_type": "stream",
     "text": [
      "✅ Gespeichert: /Users/felix/Documents/Data Science/06_Offical_project_DS/may25_bds_plants/04_src/images_shap/advanced_model/Strawberry___Leaf_scorch_img1_overlay.png\n",
      "✅ Gespeichert: /Users/felix/Documents/Data Science/06_Offical_project_DS/may25_bds_plants/04_src/images_shap/advanced_model/Strawberry___Leaf_scorch_img1_original.png\n",
      "✅ Gespeichert: /Users/felix/Documents/Data Science/06_Offical_project_DS/may25_bds_plants/04_src/images_shap/advanced_model/Strawberry___Leaf_scorch_img2_overlay.png\n",
      "✅ Gespeichert: /Users/felix/Documents/Data Science/06_Offical_project_DS/may25_bds_plants/04_src/images_shap/advanced_model/Strawberry___Leaf_scorch_img2_original.png\n",
      "\n",
      "🔍 Klasse: Grape___Leaf_blight_(Isariopsis_Leaf_Spot) | Anzahl Bilder: 2\n"
     ]
    },
    {
     "data": {
      "application/vnd.jupyter.widget-view+json": {
       "model_id": "d6f9a46ce480422ea02ff9a85da60544",
       "version_major": 2,
       "version_minor": 0
      },
      "text/plain": [
       "  0%|          | 0/498 [00:00<?, ?it/s]"
      ]
     },
     "metadata": {},
     "output_type": "display_data"
    },
    {
     "name": "stderr",
     "output_type": "stream",
     "text": [
      "PartitionExplainer explainer:  50%|█████     | 1/2 [00:00<?, ?it/s]"
     ]
    },
    {
     "data": {
      "application/vnd.jupyter.widget-view+json": {
       "model_id": "c571e37c416b4098a1fe3f667e0fdca0",
       "version_major": 2,
       "version_minor": 0
      },
      "text/plain": [
       "  0%|          | 0/498 [00:00<?, ?it/s]"
      ]
     },
     "metadata": {},
     "output_type": "display_data"
    },
    {
     "name": "stderr",
     "output_type": "stream",
     "text": [
      "PartitionExplainer explainer: 3it [00:45, 22.64s/it]               \n"
     ]
    },
    {
     "name": "stdout",
     "output_type": "stream",
     "text": [
      "✅ Gespeichert: /Users/felix/Documents/Data Science/06_Offical_project_DS/may25_bds_plants/04_src/images_shap/advanced_model/Grape___Leaf_blight_(Isariopsis_Leaf_Spot)_img1_overlay.png\n",
      "✅ Gespeichert: /Users/felix/Documents/Data Science/06_Offical_project_DS/may25_bds_plants/04_src/images_shap/advanced_model/Grape___Leaf_blight_(Isariopsis_Leaf_Spot)_img1_original.png\n",
      "✅ Gespeichert: /Users/felix/Documents/Data Science/06_Offical_project_DS/may25_bds_plants/04_src/images_shap/advanced_model/Grape___Leaf_blight_(Isariopsis_Leaf_Spot)_img2_overlay.png\n",
      "✅ Gespeichert: /Users/felix/Documents/Data Science/06_Offical_project_DS/may25_bds_plants/04_src/images_shap/advanced_model/Grape___Leaf_blight_(Isariopsis_Leaf_Spot)_img2_original.png\n",
      "\n",
      "🔍 Klasse: Potato___healthy | Anzahl Bilder: 2\n"
     ]
    },
    {
     "data": {
      "application/vnd.jupyter.widget-view+json": {
       "model_id": "235442152493486ea639aaa68dac9164",
       "version_major": 2,
       "version_minor": 0
      },
      "text/plain": [
       "  0%|          | 0/498 [00:00<?, ?it/s]"
      ]
     },
     "metadata": {},
     "output_type": "display_data"
    },
    {
     "name": "stderr",
     "output_type": "stream",
     "text": [
      "PartitionExplainer explainer:  50%|█████     | 1/2 [00:00<?, ?it/s]"
     ]
    },
    {
     "data": {
      "application/vnd.jupyter.widget-view+json": {
       "model_id": "5425d8b233b34cecaed186a6955b0a8c",
       "version_major": 2,
       "version_minor": 0
      },
      "text/plain": [
       "  0%|          | 0/498 [00:00<?, ?it/s]"
      ]
     },
     "metadata": {},
     "output_type": "display_data"
    },
    {
     "name": "stderr",
     "output_type": "stream",
     "text": [
      "PartitionExplainer explainer: 3it [00:44, 22.01s/it]               \n"
     ]
    },
    {
     "name": "stdout",
     "output_type": "stream",
     "text": [
      "✅ Gespeichert: /Users/felix/Documents/Data Science/06_Offical_project_DS/may25_bds_plants/04_src/images_shap/advanced_model/Potato___healthy_img1_overlay.png\n",
      "✅ Gespeichert: /Users/felix/Documents/Data Science/06_Offical_project_DS/may25_bds_plants/04_src/images_shap/advanced_model/Potato___healthy_img1_original.png\n",
      "✅ Gespeichert: /Users/felix/Documents/Data Science/06_Offical_project_DS/may25_bds_plants/04_src/images_shap/advanced_model/Potato___healthy_img2_overlay.png\n",
      "✅ Gespeichert: /Users/felix/Documents/Data Science/06_Offical_project_DS/may25_bds_plants/04_src/images_shap/advanced_model/Potato___healthy_img2_original.png\n",
      "\n",
      "🔍 Klasse: Apple___Black_rot | Anzahl Bilder: 2\n"
     ]
    },
    {
     "data": {
      "application/vnd.jupyter.widget-view+json": {
       "model_id": "02f2e20106ac4836ac5eff344f7ed202",
       "version_major": 2,
       "version_minor": 0
      },
      "text/plain": [
       "  0%|          | 0/498 [00:00<?, ?it/s]"
      ]
     },
     "metadata": {},
     "output_type": "display_data"
    },
    {
     "name": "stderr",
     "output_type": "stream",
     "text": [
      "PartitionExplainer explainer:  50%|█████     | 1/2 [00:00<?, ?it/s]"
     ]
    },
    {
     "data": {
      "application/vnd.jupyter.widget-view+json": {
       "model_id": "1bfca9429ec8438f9c1c64030304ac4f",
       "version_major": 2,
       "version_minor": 0
      },
      "text/plain": [
       "  0%|          | 0/498 [00:00<?, ?it/s]"
      ]
     },
     "metadata": {},
     "output_type": "display_data"
    },
    {
     "name": "stderr",
     "output_type": "stream",
     "text": [
      "PartitionExplainer explainer: 3it [00:47, 23.51s/it]               \n"
     ]
    },
    {
     "name": "stdout",
     "output_type": "stream",
     "text": [
      "✅ Gespeichert: /Users/felix/Documents/Data Science/06_Offical_project_DS/may25_bds_plants/04_src/images_shap/advanced_model/Apple___Black_rot_img1_overlay.png\n",
      "✅ Gespeichert: /Users/felix/Documents/Data Science/06_Offical_project_DS/may25_bds_plants/04_src/images_shap/advanced_model/Apple___Black_rot_img1_original.png\n",
      "✅ Gespeichert: /Users/felix/Documents/Data Science/06_Offical_project_DS/may25_bds_plants/04_src/images_shap/advanced_model/Apple___Black_rot_img2_overlay.png\n",
      "✅ Gespeichert: /Users/felix/Documents/Data Science/06_Offical_project_DS/may25_bds_plants/04_src/images_shap/advanced_model/Apple___Black_rot_img2_original.png\n",
      "\n",
      "🔍 Klasse: Apple___Cedar_apple_rust | Anzahl Bilder: 2\n"
     ]
    },
    {
     "data": {
      "application/vnd.jupyter.widget-view+json": {
       "model_id": "f5e5ce6135e54f12a58da89ffe65b756",
       "version_major": 2,
       "version_minor": 0
      },
      "text/plain": [
       "  0%|          | 0/498 [00:00<?, ?it/s]"
      ]
     },
     "metadata": {},
     "output_type": "display_data"
    },
    {
     "name": "stderr",
     "output_type": "stream",
     "text": [
      "PartitionExplainer explainer:  50%|█████     | 1/2 [00:00<?, ?it/s]"
     ]
    },
    {
     "data": {
      "application/vnd.jupyter.widget-view+json": {
       "model_id": "04442aa0328a413eac81637a0d578dc4",
       "version_major": 2,
       "version_minor": 0
      },
      "text/plain": [
       "  0%|          | 0/498 [00:00<?, ?it/s]"
      ]
     },
     "metadata": {},
     "output_type": "display_data"
    },
    {
     "name": "stderr",
     "output_type": "stream",
     "text": [
      "PartitionExplainer explainer: 3it [00:52, 26.13s/it]               \n"
     ]
    },
    {
     "name": "stdout",
     "output_type": "stream",
     "text": [
      "✅ Gespeichert: /Users/felix/Documents/Data Science/06_Offical_project_DS/may25_bds_plants/04_src/images_shap/advanced_model/Apple___Cedar_apple_rust_img1_overlay.png\n",
      "✅ Gespeichert: /Users/felix/Documents/Data Science/06_Offical_project_DS/may25_bds_plants/04_src/images_shap/advanced_model/Apple___Cedar_apple_rust_img1_original.png\n",
      "✅ Gespeichert: /Users/felix/Documents/Data Science/06_Offical_project_DS/may25_bds_plants/04_src/images_shap/advanced_model/Apple___Cedar_apple_rust_img2_overlay.png\n",
      "✅ Gespeichert: /Users/felix/Documents/Data Science/06_Offical_project_DS/may25_bds_plants/04_src/images_shap/advanced_model/Apple___Cedar_apple_rust_img2_original.png\n",
      "\n",
      "🔍 Klasse: Raspberry___healthy | Anzahl Bilder: 2\n"
     ]
    },
    {
     "data": {
      "application/vnd.jupyter.widget-view+json": {
       "model_id": "8f365c26bfda44b9b870ac6ae7a7c68f",
       "version_major": 2,
       "version_minor": 0
      },
      "text/plain": [
       "  0%|          | 0/498 [00:00<?, ?it/s]"
      ]
     },
     "metadata": {},
     "output_type": "display_data"
    },
    {
     "name": "stderr",
     "output_type": "stream",
     "text": [
      "PartitionExplainer explainer:  50%|█████     | 1/2 [00:00<?, ?it/s]"
     ]
    },
    {
     "data": {
      "application/vnd.jupyter.widget-view+json": {
       "model_id": "97e59366172249c7931197f1456ecc00",
       "version_major": 2,
       "version_minor": 0
      },
      "text/plain": [
       "  0%|          | 0/498 [00:00<?, ?it/s]"
      ]
     },
     "metadata": {},
     "output_type": "display_data"
    },
    {
     "name": "stderr",
     "output_type": "stream",
     "text": [
      "PartitionExplainer explainer: 3it [00:48, 24.14s/it]               \n"
     ]
    },
    {
     "name": "stdout",
     "output_type": "stream",
     "text": [
      "✅ Gespeichert: /Users/felix/Documents/Data Science/06_Offical_project_DS/may25_bds_plants/04_src/images_shap/advanced_model/Raspberry___healthy_img1_overlay.png\n",
      "✅ Gespeichert: /Users/felix/Documents/Data Science/06_Offical_project_DS/may25_bds_plants/04_src/images_shap/advanced_model/Raspberry___healthy_img1_original.png\n",
      "✅ Gespeichert: /Users/felix/Documents/Data Science/06_Offical_project_DS/may25_bds_plants/04_src/images_shap/advanced_model/Raspberry___healthy_img2_overlay.png\n",
      "✅ Gespeichert: /Users/felix/Documents/Data Science/06_Offical_project_DS/may25_bds_plants/04_src/images_shap/advanced_model/Raspberry___healthy_img2_original.png\n",
      "\n",
      "🔍 Klasse: Blueberry___healthy | Anzahl Bilder: 2\n"
     ]
    },
    {
     "data": {
      "application/vnd.jupyter.widget-view+json": {
       "model_id": "b0ee4390e03147e4b3d5d00cd2c82967",
       "version_major": 2,
       "version_minor": 0
      },
      "text/plain": [
       "  0%|          | 0/498 [00:00<?, ?it/s]"
      ]
     },
     "metadata": {},
     "output_type": "display_data"
    },
    {
     "name": "stderr",
     "output_type": "stream",
     "text": [
      "PartitionExplainer explainer:  50%|█████     | 1/2 [00:00<?, ?it/s]"
     ]
    },
    {
     "data": {
      "application/vnd.jupyter.widget-view+json": {
       "model_id": "36ef0f6c684e41e6a3df5be726bbcf3e",
       "version_major": 2,
       "version_minor": 0
      },
      "text/plain": [
       "  0%|          | 0/498 [00:00<?, ?it/s]"
      ]
     },
     "metadata": {},
     "output_type": "display_data"
    },
    {
     "name": "stderr",
     "output_type": "stream",
     "text": [
      "PartitionExplainer explainer: 3it [00:49, 24.67s/it]               "
     ]
    },
    {
     "name": "stdout",
     "output_type": "stream",
     "text": [
      "✅ Gespeichert: /Users/felix/Documents/Data Science/06_Offical_project_DS/may25_bds_plants/04_src/images_shap/advanced_model/Blueberry___healthy_img1_overlay.png\n",
      "✅ Gespeichert: /Users/felix/Documents/Data Science/06_Offical_project_DS/may25_bds_plants/04_src/images_shap/advanced_model/Blueberry___healthy_img1_original.png\n",
      "✅ Gespeichert: /Users/felix/Documents/Data Science/06_Offical_project_DS/may25_bds_plants/04_src/images_shap/advanced_model/Blueberry___healthy_img2_overlay.png\n",
      "✅ Gespeichert: /Users/felix/Documents/Data Science/06_Offical_project_DS/may25_bds_plants/04_src/images_shap/advanced_model/Blueberry___healthy_img2_original.png\n"
     ]
    },
    {
     "name": "stderr",
     "output_type": "stream",
     "text": [
      "\n"
     ]
    }
   ],
   "source": [
    "#save_path_shap = r\"C:\\Users\\Alex\\Documents\\GitHub\\may25_bds_plants\\04_src\\images_shap\\first_model_2025_07_29\"\n",
    "save_path_shap =  \"/Users/felix/Documents/Data Science/06_Offical_project_DS/may25_bds_plants/04_src/images_shap/advanced_model\"\n",
    "\n",
    "\n",
    "explain_and_save_overlay_per_class(\n",
    "    model=model,\n",
    "    dataset=dataset_valid,\n",
    "    class_names=class_names,\n",
    "    save_dir=save_path_shap,\n",
    "    max_evals=500,\n",
    "    samples_per_class=2  # 2 Bilder pro Klasse\n",
    ")"
   ]
  }
 ],
 "metadata": {
  "kernelspec": {
   "display_name": ".venv",
   "language": "python",
   "name": "python3"
  },
  "language_info": {
   "codemirror_mode": {
    "name": "ipython",
    "version": 3
   },
   "file_extension": ".py",
   "mimetype": "text/x-python",
   "name": "python",
   "nbconvert_exporter": "python",
   "pygments_lexer": "ipython3",
   "version": "3.11.9"
  }
 },
 "nbformat": 4,
 "nbformat_minor": 5
}
