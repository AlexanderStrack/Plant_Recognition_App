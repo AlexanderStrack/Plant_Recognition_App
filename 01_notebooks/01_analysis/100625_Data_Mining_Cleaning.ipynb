{
 "cells": [
  {
   "cell_type": "markdown",
   "id": "cf8e5d76",
   "metadata": {},
   "source": [
    "# Explanatory Analysis: Data Wrangling "
   ]
  },
  {
   "cell_type": "markdown",
   "id": "91ba7216",
   "metadata": {},
   "source": [
    "### 1. Load Packages"
   ]
  },
  {
   "cell_type": "code",
   "execution_count": 4,
   "id": "e8a2211b",
   "metadata": {},
   "outputs": [],
   "source": [
    "import numpy as np\n",
    "import cv2 \n",
    "import pandas as pd\n",
    "import re\n",
    "import os\n",
    "import openpyxl\n",
    "import time\n",
    "from datetime import datetime\n",
    "from PIL import Image\n",
    "from sklearn.cluster import KMeans\n"
   ]
  },
  {
   "cell_type": "markdown",
   "id": "3f0886b3",
   "metadata": {},
   "source": [
    "### 2. Generate a Pandas Dataframe with Data from the File Name, Folder Structre with contain the following infomation\n",
    "- full_path\n",
    "- file_name\n",
    "- class\n",
    "- plant\n",
    "- disease\n",
    "- uuid\n",
    "- source_code\n",
    "- image_id\n",
    "- augmentation"
   ]
  },
  {
   "cell_type": "code",
   "execution_count": 15,
   "id": "d576678e",
   "metadata": {},
   "outputs": [],
   "source": [
    "\n",
    "# Path\n",
    "base_path = \"/Users/felix/Documents/Data Science/06_Offical_project_DS/may25_bds_plants/05_data/data/2.1.1 New Plant Diseases/New Plant Diseases Dataset(Augmented)/New Plant Diseases Dataset(Augmented)/train\"\n",
    "\n",
    "# List to hold the data\n",
    "data = []\n",
    "\n",
    "# Split file name with regex\n",
    "pattern = re.compile(r\"(?P<uuid>[a-f0-9\\-]+)___(?P<source>[A-Z_]+)\\s(?P<id>\\d+)_?(?P<aug>.*)?\\.(jpg|jpeg|png)\", re.IGNORECASE)\n",
    "\n",
    "# Run through all files in the base path\n",
    "for root, dirs, files in os.walk(base_path):\n",
    "    for file in files:\n",
    "        if file.lower().endswith(('.jpg', '.jpeg', '.png')):\n",
    "            full_path = os.path.join(root, file)\n",
    "            rel_path = os.path.relpath(full_path, base_path)\n",
    "            class_folder = rel_path.split(os.sep)[0]\n",
    "\n",
    "            # Determine plant and disease from the class folder name\n",
    "            if \"___\" in class_folder:\n",
    "                plant, disease = class_folder.split(\"___\")\n",
    "            else:\n",
    "                plant, disease = class_folder, \"unknown\"\n",
    "\n",
    "            # Analyse the file name with regex\n",
    "            match = pattern.match(file)\n",
    "            if match:\n",
    "                uuid = match.group(\"uuid\")\n",
    "                source_code = match.group(\"source\")\n",
    "                image_id = match.group(\"id\")\n",
    "                augmentation = match.group(\"aug\") or \"original\"\n",
    "            else:\n",
    "                uuid = source_code = image_id = augmentation = \"unknown\"\n",
    "\n",
    "            data.append({\n",
    "                \"file_path\": full_path,\n",
    "                \"file_name\": file,\n",
    "                \"class\": class_folder,\n",
    "                \"plant\": plant,\n",
    "                \"disease\": disease,\n",
    "                \"uuid\": uuid,\n",
    "                \"source_code\": source_code,\n",
    "                \"image_id\": image_id,\n",
    "                \"augmentation\": augmentation.lower()\n",
    "            })\n",
    "\n",
    "# Safe the data to a DataFrame\n",
    "df = pd.DataFrame(data)\n",
    "\n"
   ]
  },
  {
   "cell_type": "code",
   "execution_count": null,
   "id": "d6fc6aba",
   "metadata": {},
   "outputs": [
    {
     "data": {
      "text/plain": [
       "<bound method DataFrame.info of                                                file_path  \\\n",
       "0      /Users/felix/Documents/Data Science/06_Offical...   \n",
       "1      /Users/felix/Documents/Data Science/06_Offical...   \n",
       "2      /Users/felix/Documents/Data Science/06_Offical...   \n",
       "3      /Users/felix/Documents/Data Science/06_Offical...   \n",
       "4      /Users/felix/Documents/Data Science/06_Offical...   \n",
       "...                                                  ...   \n",
       "70290  /Users/felix/Documents/Data Science/06_Offical...   \n",
       "70291  /Users/felix/Documents/Data Science/06_Offical...   \n",
       "70292  /Users/felix/Documents/Data Science/06_Offical...   \n",
       "70293  /Users/felix/Documents/Data Science/06_Offical...   \n",
       "70294  /Users/felix/Documents/Data Science/06_Offical...   \n",
       "\n",
       "                                               file_name  \\\n",
       "0      0370bc9b-c0c8-49b5-b999-c44323c45216___RS_HL 2...   \n",
       "1      741e834f-a63a-4efd-b961-d5f7e047abdc___RS_HL 2...   \n",
       "2      b8e9ed27-8e37-4214-9206-f8c0ef21cf4d___RS_HL 4...   \n",
       "3      ac5bf646-1586-4766-9583-ef6eb8f7b4a6___RS_HL 4...   \n",
       "4      d07e9834-ac76-4390-9463-cbef9d0269da___RS_HL 1...   \n",
       "...                                                  ...   \n",
       "70290  c127579f-9800-44fe-88fd-40eceef2520c___RS_HL 6...   \n",
       "70291  31800ff8-157b-4690-9200-1e86c7c605b2___RS_HL 7...   \n",
       "70292  9898aa61-2804-4b30-a52c-bdf95cbdd013___RS_HL 4...   \n",
       "70293  df807f13-078b-4a6a-9c23-e43e540ecdc2___RS_HL 5...   \n",
       "70294  c7f4b7b2-b13c-476e-a936-c91ce39749a3___RS_HL 6...   \n",
       "\n",
       "                      class       plant  disease  \\\n",
       "0      Strawberry___healthy  Strawberry  healthy   \n",
       "1      Strawberry___healthy  Strawberry  healthy   \n",
       "2      Strawberry___healthy  Strawberry  healthy   \n",
       "3      Strawberry___healthy  Strawberry  healthy   \n",
       "4      Strawberry___healthy  Strawberry  healthy   \n",
       "...                     ...         ...      ...   \n",
       "70290     Soybean___healthy     Soybean  healthy   \n",
       "70291     Soybean___healthy     Soybean  healthy   \n",
       "70292     Soybean___healthy     Soybean  healthy   \n",
       "70293     Soybean___healthy     Soybean  healthy   \n",
       "70294     Soybean___healthy     Soybean  healthy   \n",
       "\n",
       "                                       uuid source_code image_id  \\\n",
       "0      0370bc9b-c0c8-49b5-b999-c44323c45216       RS_HL     2202   \n",
       "1      741e834f-a63a-4efd-b961-d5f7e047abdc       RS_HL     2085   \n",
       "2      b8e9ed27-8e37-4214-9206-f8c0ef21cf4d       RS_HL     4847   \n",
       "3      ac5bf646-1586-4766-9583-ef6eb8f7b4a6       RS_HL     4774   \n",
       "4      d07e9834-ac76-4390-9463-cbef9d0269da       RS_HL     1736   \n",
       "...                                     ...         ...      ...   \n",
       "70290  c127579f-9800-44fe-88fd-40eceef2520c       RS_HL     6733   \n",
       "70291  31800ff8-157b-4690-9200-1e86c7c605b2       RS_HL     7135   \n",
       "70292  9898aa61-2804-4b30-a52c-bdf95cbdd013       RS_HL     4912   \n",
       "70293  df807f13-078b-4a6a-9c23-e43e540ecdc2       RS_HL     5590   \n",
       "70294  c7f4b7b2-b13c-476e-a936-c91ce39749a3       RS_HL     6897   \n",
       "\n",
       "         augmentation  \n",
       "0               90deg  \n",
       "1      new30degfliplr  \n",
       "2            original  \n",
       "3      new30degfliplr  \n",
       "4      new30degfliplr  \n",
       "...               ...  \n",
       "70290        original  \n",
       "70291        original  \n",
       "70292        original  \n",
       "70293               1  \n",
       "70294        original  \n",
       "\n",
       "[70295 rows x 9 columns]>"
      ]
     },
     "execution_count": 16,
     "metadata": {},
     "output_type": "execute_result"
    }
   ],
   "source": [
    "#df.head()\n",
    "#df.value_counts()\n",
    "#df.describe()\n",
    "#df.dtypes\n",
    "#df.info\n",
    "\n"
   ]
  },
  {
   "cell_type": "markdown",
   "id": "bafd1966",
   "metadata": {},
   "source": [
    "### 3.1 Calculation of Grayscale Mean Brightness"
   ]
  },
  {
   "cell_type": "code",
   "execution_count": 17,
   "id": "55da000a",
   "metadata": {},
   "outputs": [],
   "source": [
    "def get_brightness(file_path):\n",
    "    img = cv2.imread(file_path)\n",
    "    gray = cv2.cvtColor(img, cv2.COLOR_BGR2GRAY)  # Convert to grayscale\n",
    "    return np.mean(gray)  # Average brightness (0-255)\n",
    "\n",
    "df['grayscale_brightness'] = df['file_path'].apply(get_brightness)"
   ]
  },
  {
   "cell_type": "markdown",
   "id": "85d9129d",
   "metadata": {},
   "source": [
    "### 3.2 Calculation of Perceptual Brightness (Human-Vision Weighted)\n",
    "A more human-aligned metric that weights RGB channels differently (similar to how our eyes perceive brightness):"
   ]
  },
  {
   "cell_type": "code",
   "execution_count": 18,
   "id": "e243d880",
   "metadata": {},
   "outputs": [],
   "source": [
    "\n",
    "def get_perceptual_brightness(file_path):\n",
    "    \"\"\"\n",
    "    Calculate human-perceived brightness of an image (weighted RGB average).\n",
    "    Returns a value between 0 (dark) and 255 (bright).\n",
    "    \n",
    "    Args:\n",
    "        file_path (str): Path to the image file\n",
    "        \n",
    "    Returns:\n",
    "        float: Perceptual brightness value\n",
    "    \"\"\"\n",
    "    try:\n",
    "        # Read image (ensure color order is RGB)\n",
    "        img = cv2.imread(file_path)\n",
    "        if img is None:\n",
    "            raise ValueError(f\"Could not read image: {file_path}\")\n",
    "            \n",
    "        # Convert BGR to RGB (OpenCV uses BGR by default)\n",
    "        img_rgb = cv2.cvtColor(img, cv2.COLOR_BGR2RGB)\n",
    "        \n",
    "        # Calculate weighted sum (human eye sensitivity coefficients)\n",
    "        # Coefficients: 0.299*R + 0.587*G + 0.114*B\n",
    "        perceptual_brightness = np.dot(img_rgb, [0.299, 0.587, 0.114])\n",
    "        \n",
    "        return np.mean(perceptual_brightness)\n",
    "    \n",
    "    except Exception as e:\n",
    "        print(f\"Error processing {file_path}: {str(e)}\")\n",
    "        return None  # or np.nan\n",
    "\n",
    "# Apply to DataFrame\n",
    "df['perceptual_brightness'] = df['file_path'].apply(get_perceptual_brightness)"
   ]
  },
  {
   "cell_type": "markdown",
   "id": "23184223",
   "metadata": {},
   "source": [
    "### 4. Add Timestamp for Creation and Modification"
   ]
  },
  {
   "cell_type": "code",
   "execution_count": 19,
   "id": "1793745a",
   "metadata": {},
   "outputs": [],
   "source": [
    "\n",
    "\n",
    "df['creation_date'] = df['file_path'].apply(lambda x: datetime.fromtimestamp(os.path.getctime(x)))\n",
    "df['modification_date'] = df['file_path'].apply(lambda x: datetime.fromtimestamp(os.path.getmtime(x)))\n",
    "# Extract Year\n",
    "df['modification_year'] = df['modification_date'].dt.year\n",
    "# Extract Year-Month (as string, e.g. \"2023-07\")\n",
    "df['modification_year_month'] = df['modification_date'].dt.strftime('%Y-%m')"
   ]
  },
  {
   "cell_type": "markdown",
   "id": "48f2e4a2",
   "metadata": {},
   "source": [
    "### 5. Add Size of the Picture"
   ]
  },
  {
   "cell_type": "code",
   "execution_count": 20,
   "id": "531f8bcd",
   "metadata": {},
   "outputs": [],
   "source": [
    "def get_image_size(file_path):\n",
    "    \"\"\"Returns (width, height) for an image, handles errors gracefully.\"\"\"\n",
    "    try:\n",
    "        with Image.open(file_path) as img:\n",
    "            return img.size  # (width, height)\n",
    "    except:\n",
    "        return (None, None)  # or (np.nan, np.nan)\n",
    "\n",
    "# Add dimensions (takes ~0.1s per image)\n",
    "df[['width', 'height']] = pd.DataFrame(\n",
    "    df['file_path'].apply(get_image_size).tolist(),\n",
    "    index=df.index\n",
    ")\n",
    "\n",
    "\n",
    "df['total_pixels'] = df['width'] * df['height']\n",
    "df['megapixels'] = (df['width'] * df['height'] / 1e6).round(2)"
   ]
  },
  {
   "cell_type": "markdown",
   "id": "ef16f826",
   "metadata": {},
   "source": [
    "### 6. Add the Dominant Colors to the DataFrame"
   ]
  },
  {
   "cell_type": "code",
   "execution_count": null,
   "id": "9438385d",
   "metadata": {},
   "outputs": [],
   "source": [
    "# TBD\n",
    "    \n"
   ]
  },
  {
   "cell_type": "markdown",
   "id": "d29435e2",
   "metadata": {},
   "source": [
    "### 7. Safe the DataFrame"
   ]
  },
  {
   "cell_type": "code",
   "execution_count": 21,
   "id": "97f85d93",
   "metadata": {},
   "outputs": [
    {
     "name": "stdout",
     "output_type": "stream",
     "text": [
      "Datei gespeichert unter: /Users/felix/Documents/Data Science/06_Offical_project_DS/may25_bds_plants/05_data/computed_data/plant_disease_dataset_analysis.xlsx\n"
     ]
    }
   ],
   "source": [
    "# XLSX-Speicherung\n",
    "output_path = \"/Users/felix/Documents/Data Science/06_Offical_project_DS/may25_bds_plants/05_data/computed_data/plant_disease_dataset_analysis.xlsx\"\n",
    "df.to_excel(output_path, index=False, engine='openpyxl')\n",
    "\n",
    "print(f\"Datei gespeichert unter: {output_path}\")\n"
   ]
  }
 ],
 "metadata": {
  "kernelspec": {
   "display_name": ".venv",
   "language": "python",
   "name": "python3"
  },
  "language_info": {
   "codemirror_mode": {
    "name": "ipython",
    "version": 3
   },
   "file_extension": ".py",
   "mimetype": "text/x-python",
   "name": "python",
   "nbconvert_exporter": "python",
   "pygments_lexer": "ipython3",
   "version": "3.11.9"
  }
 },
 "nbformat": 4,
 "nbformat_minor": 5
}
