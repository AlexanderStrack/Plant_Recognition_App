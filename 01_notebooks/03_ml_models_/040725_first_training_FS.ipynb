{
 "cells": [
  {
   "cell_type": "markdown",
   "id": "ebfe6c93",
   "metadata": {},
   "source": [
    "# 0. Load Packages, Import Data and First Print"
   ]
  },
  {
   "cell_type": "markdown",
   "id": "ea711eae",
   "metadata": {},
   "source": [
    "# to-dos\n",
    "Test the models \n",
    "\n",
    "1. Logistic Regression\n",
    "2. Support Vector Machine (SVM)\n",
    "3. K-Nearest Neighbors (KNN)\n",
    "4. Decision Trees\n",
    "5. Bagging Algorithms\n",
    "6. Boosting Algorithms\n",
    "7. Random Forests\n",
    "8. Voting Classifier and Stacking\n",
    "9. XGBoost\n",
    "\n",
    "with \n",
    "\n",
    "-benchmark \n",
    "-choose one model\n",
    "- F1 score seems to be good\n",
    "- one model plant \n",
    "- take one the healthy \n",
    "\n",
    "finetuning with\n",
    "\n",
    "- Gridsearch\n",
    "- random select\n",
    "- lazypredict "
   ]
  },
  {
   "cell_type": "code",
   "execution_count": 9,
   "id": "f56030c8",
   "metadata": {},
   "outputs": [],
   "source": [
    "import numpy as np\n",
    "import pandas as pd\n",
    "import matplotlib.pyplot as plt\n",
    "from sklearn.linear_model import LogisticRegression\n",
    "from sklearn.svm import SVC\n",
    "from sklearn.neighbors import KNeighborsClassifier\n",
    "from sklearn.tree import DecisionTreeClassifier\n",
    "from sklearn.ensemble import (\n",
    "    BaggingClassifier, AdaBoostClassifier, RandomForestClassifier)\n",
    "from xgboost import XGBClassifier\n",
    "from sklearn.preprocessing import LabelEncoder\n",
    "from sklearn.metrics import accuracy_score, classification_report\n",
    "from datetime import date\n",
    "import os\n",
    "import joblib\n"
   ]
  },
  {
   "cell_type": "code",
   "execution_count": 3,
   "id": "4970a5c5",
   "metadata": {},
   "outputs": [
    {
     "name": "stdout",
     "output_type": "stream",
     "text": [
      "Train Features shape: (70295, 1280)\n",
      "Train Labels shape: (70295,) \n",
      "\n",
      "Test Features shape: (17572, 1280)\n",
      "Test Labels shape: (17572,) \n",
      "\n",
      "Train Sample feature vector: [0.         0.86447287 0.23696803 ... 0.25945228 0.80036694 0.5455655 ]\n",
      "Train Sample label: Apple___Apple_scab \n",
      "\n",
      "Test Sample feature vector: [0.         1.9377055  0.         ... 0.         0.33774427 1.586906  ]\n",
      "Test Sample label: Apple___Apple_scab\n"
     ]
    }
   ],
   "source": [
    "\n",
    "# Load the saved arrays\n",
    "features_train = np.load(\"/Users/felix/Documents/Data Science/06_Offical_project_DS/may25_bds_plants/05_data/computed_data/2025_06_25_features_train.npy\")\n",
    "labels_train = np.load(\"/Users/felix/Documents/Data Science/06_Offical_project_DS/may25_bds_plants/05_data/computed_data/2025_06_25_labels_train.npy\")\n",
    "\n",
    "\n",
    "# Load the saved arrays\n",
    "features_valid = np.load(\"/Users/felix/Documents/Data Science/06_Offical_project_DS/may25_bds_plants/05_data/computed_data/2025_06_25_features_valid.npy\")\n",
    "labels_valid = np.load(\"/Users/felix/Documents/Data Science/06_Offical_project_DS/may25_bds_plants/05_data/computed_data/2025_06_25_labels_valid.npy\")\n",
    "\n",
    "\n",
    "# Inspect the data\n",
    "print(\"Train Features shape:\", features_train.shape )\n",
    "print(\"Train Labels shape:\", labels_train.shape,\"\\n\")\n",
    "\n",
    "print(\"Test Features shape:\", features_valid.shape)\n",
    "print(\"Test Labels shape:\", labels_valid.shape,\"\\n\")\n",
    "\n",
    "# Print a sample of the data\n",
    "print(\"Train Sample feature vector:\", features_train[0])\n",
    "print(\"Train Sample label:\", labels_train[0],\"\\n\")\n",
    "\n",
    "print(\"Test Sample feature vector:\", features_valid[0])\n",
    "print(\"Test Sample label:\", labels_valid[0])"
   ]
  },
  {
   "cell_type": "markdown",
   "id": "b2ab7713",
   "metadata": {},
   "source": [
    "# 1. Filter the Data for Heallty Plants"
   ]
  },
  {
   "cell_type": "markdown",
   "id": "9115d2d2",
   "metadata": {},
   "source": [
    "### Training Data"
   ]
  },
  {
   "cell_type": "code",
   "execution_count": 4,
   "id": "2cc749cf",
   "metadata": {},
   "outputs": [
    {
     "name": "stdout",
     "output_type": "stream",
     "text": [
      "Sample feature vector: [0.02920142 2.5676873  0.         ... 0.02060599 0.21142866 0.0756085 ]\n",
      "Sample label: Apple___healthy\n",
      "['Apple___healthy' 'Blueberry___healthy'\n",
      " 'Cherry_(including_sour)___healthy' 'Corn_(maize)___healthy'\n",
      " 'Grape___healthy' 'Peach___healthy' 'Pepper,_bell___healthy'\n",
      " 'Potato___healthy' 'Raspberry___healthy' 'Soybean___healthy'\n",
      " 'Strawberry___healthy' 'Tomato___healthy']\n"
     ]
    }
   ],
   "source": [
    "# Filter condition: Boolean mask\n",
    "mask = np.char.endswith(labels_train.astype(str), \"healthy\")\n",
    "\n",
    "# Apply mask to features and labels\n",
    "features_healthy_train = features_train[mask]\n",
    "labels_healthy_train = labels_train[mask]\n",
    "\n",
    "# Print a sample of the data\n",
    "print(\"Sample feature vector:\", features_healthy_train [0])\n",
    "print(\"Sample label:\", labels_healthy_train [0])\n",
    "print(np.unique(labels_healthy_train))\n",
    "\n"
   ]
  },
  {
   "cell_type": "markdown",
   "id": "a60ab708",
   "metadata": {},
   "source": [
    "### Test Data"
   ]
  },
  {
   "cell_type": "code",
   "execution_count": 5,
   "id": "a2c64b68",
   "metadata": {},
   "outputs": [
    {
     "name": "stdout",
     "output_type": "stream",
     "text": [
      "Sample feature vector: [0.17777829 2.1144028  0.         ... 1.1448742  0.7059598  1.9669307 ]\n",
      "Sample label: Apple___healthy\n",
      "All unique healthy labels: ['Apple___healthy' 'Blueberry___healthy'\n",
      " 'Cherry_(including_sour)___healthy' 'Corn_(maize)___healthy'\n",
      " 'Grape___healthy' 'Peach___healthy' 'Pepper,_bell___healthy'\n",
      " 'Potato___healthy' 'Raspberry___healthy' 'Soybean___healthy'\n",
      " 'Strawberry___healthy' 'Tomato___healthy']\n"
     ]
    }
   ],
   "source": [
    "# Create Boolean mask for labels ending with 'healthy'\n",
    "mask = np.char.endswith(labels_valid.astype(str), \"healthy\")\n",
    "\n",
    "# Apply mask to filter features and labels\n",
    "features_healthy_valid = features_valid[mask]\n",
    "labels_healthy_valid = labels_valid[mask]\n",
    "\n",
    "# Print a sample\n",
    "print(\"Sample feature vector:\", features_healthy_valid[0])\n",
    "print(\"Sample label:\", labels_healthy_valid[0])\n",
    "print(\"All unique healthy labels:\", np.unique(labels_healthy_valid))\n"
   ]
  },
  {
   "cell_type": "markdown",
   "id": "d7ed0f26",
   "metadata": {},
   "source": [
    "# 2. Training Basic Models"
   ]
  },
  {
   "cell_type": "code",
   "execution_count": null,
   "id": "2856331d",
   "metadata": {},
   "outputs": [
    {
     "name": "stdout",
     "output_type": "stream",
     "text": [
      "Encoded labels (train): []\n"
     ]
    }
   ],
   "source": [
    "# Encode labels\n",
    "import random\n",
    "\n",
    "\n",
    "le = LabelEncoder()\n",
    "y_train = le.fit_transform(labels_healthy_train)\n",
    "y_valid = le.transform(labels_healthy_valid)\n"
   ]
  },
  {
   "cell_type": "code",
   "execution_count": 7,
   "id": "feb425aa",
   "metadata": {},
   "outputs": [
    {
     "name": "stdout",
     "output_type": "stream",
     "text": [
      "\n",
      "Logistic Regression - Accuracy: 0.9937\n",
      "                                   precision    recall  f1-score   support\n",
      "\n",
      "                  Apple___healthy       1.00      0.99      0.99       502\n",
      "              Blueberry___healthy       1.00      0.99      0.99       454\n",
      "Cherry_(including_sour)___healthy       0.99      1.00      0.99       456\n",
      "           Corn_(maize)___healthy       1.00      1.00      1.00       465\n",
      "                  Grape___healthy       1.00      1.00      1.00       423\n",
      "                  Peach___healthy       0.99      1.00      1.00       432\n",
      "           Pepper,_bell___healthy       0.99      0.99      0.99       497\n",
      "                 Potato___healthy       0.99      0.99      0.99       456\n",
      "              Raspberry___healthy       0.99      0.99      0.99       445\n",
      "                Soybean___healthy       0.99      0.99      0.99       505\n",
      "             Strawberry___healthy       1.00      1.00      1.00       456\n",
      "                 Tomato___healthy       1.00      0.99      1.00       481\n",
      "\n",
      "                         accuracy                           0.99      5572\n",
      "                        macro avg       0.99      0.99      0.99      5572\n",
      "                     weighted avg       0.99      0.99      0.99      5572\n",
      "\n",
      "\n",
      "SVM - Accuracy: 0.9953\n",
      "                                   precision    recall  f1-score   support\n",
      "\n",
      "                  Apple___healthy       1.00      1.00      1.00       502\n",
      "              Blueberry___healthy       1.00      0.99      1.00       454\n",
      "Cherry_(including_sour)___healthy       1.00      1.00      1.00       456\n",
      "           Corn_(maize)___healthy       1.00      1.00      1.00       465\n",
      "                  Grape___healthy       1.00      1.00      1.00       423\n",
      "                  Peach___healthy       0.99      1.00      1.00       432\n",
      "           Pepper,_bell___healthy       0.99      0.99      0.99       497\n",
      "                 Potato___healthy       0.99      0.99      0.99       456\n",
      "              Raspberry___healthy       0.99      1.00      0.99       445\n",
      "                Soybean___healthy       0.99      0.99      0.99       505\n",
      "             Strawberry___healthy       1.00      0.99      1.00       456\n",
      "                 Tomato___healthy       1.00      1.00      1.00       481\n",
      "\n",
      "                         accuracy                           1.00      5572\n",
      "                        macro avg       1.00      1.00      1.00      5572\n",
      "                     weighted avg       1.00      1.00      1.00      5572\n",
      "\n",
      "\n",
      "KNN - Accuracy: 0.9871\n",
      "                                   precision    recall  f1-score   support\n",
      "\n",
      "                  Apple___healthy       1.00      0.94      0.97       502\n",
      "              Blueberry___healthy       0.98      0.98      0.98       454\n",
      "Cherry_(including_sour)___healthy       0.97      1.00      0.98       456\n",
      "           Corn_(maize)___healthy       1.00      1.00      1.00       465\n",
      "                  Grape___healthy       0.99      1.00      1.00       423\n",
      "                  Peach___healthy       0.99      1.00      0.99       432\n",
      "           Pepper,_bell___healthy       0.98      0.98      0.98       497\n",
      "                 Potato___healthy       0.98      0.98      0.98       456\n",
      "              Raspberry___healthy       0.99      1.00      0.99       445\n",
      "                Soybean___healthy       0.97      0.98      0.98       505\n",
      "             Strawberry___healthy       1.00      0.99      1.00       456\n",
      "                 Tomato___healthy       1.00      0.99      1.00       481\n",
      "\n",
      "                         accuracy                           0.99      5572\n",
      "                        macro avg       0.99      0.99      0.99      5572\n",
      "                     weighted avg       0.99      0.99      0.99      5572\n",
      "\n",
      "\n",
      "Decision Tree - Accuracy: 0.7531\n",
      "                                   precision    recall  f1-score   support\n",
      "\n",
      "                  Apple___healthy       0.68      0.66      0.67       502\n",
      "              Blueberry___healthy       0.73      0.75      0.74       454\n",
      "Cherry_(including_sour)___healthy       0.73      0.75      0.74       456\n",
      "           Corn_(maize)___healthy       0.97      0.94      0.95       465\n",
      "                  Grape___healthy       0.79      0.83      0.81       423\n",
      "                  Peach___healthy       0.79      0.79      0.79       432\n",
      "           Pepper,_bell___healthy       0.74      0.74      0.74       497\n",
      "                 Potato___healthy       0.68      0.64      0.66       456\n",
      "              Raspberry___healthy       0.72      0.72      0.72       445\n",
      "                Soybean___healthy       0.71      0.75      0.73       505\n",
      "             Strawberry___healthy       0.78      0.75      0.77       456\n",
      "                 Tomato___healthy       0.73      0.74      0.73       481\n",
      "\n",
      "                         accuracy                           0.75      5572\n",
      "                        macro avg       0.75      0.75      0.75      5572\n",
      "                     weighted avg       0.75      0.75      0.75      5572\n",
      "\n",
      "\n",
      "Bagging - Accuracy: 0.9018\n",
      "                                   precision    recall  f1-score   support\n",
      "\n",
      "                  Apple___healthy       0.83      0.89      0.86       502\n",
      "              Blueberry___healthy       0.86      0.90      0.88       454\n",
      "Cherry_(including_sour)___healthy       0.91      0.93      0.92       456\n",
      "           Corn_(maize)___healthy       1.00      0.99      0.99       465\n",
      "                  Grape___healthy       0.92      0.97      0.94       423\n",
      "                  Peach___healthy       0.93      0.91      0.92       432\n",
      "           Pepper,_bell___healthy       0.87      0.86      0.86       497\n",
      "                 Potato___healthy       0.86      0.87      0.87       456\n",
      "              Raspberry___healthy       0.93      0.90      0.91       445\n",
      "                Soybean___healthy       0.91      0.86      0.88       505\n",
      "             Strawberry___healthy       0.90      0.90      0.90       456\n",
      "                 Tomato___healthy       0.94      0.88      0.91       481\n",
      "\n",
      "                         accuracy                           0.90      5572\n",
      "                        macro avg       0.90      0.90      0.90      5572\n",
      "                     weighted avg       0.90      0.90      0.90      5572\n",
      "\n",
      "\n",
      "Boosting - Accuracy: 0.6604\n",
      "                                   precision    recall  f1-score   support\n",
      "\n",
      "                  Apple___healthy       0.59      0.60      0.59       502\n",
      "              Blueberry___healthy       0.70      0.48      0.57       454\n",
      "Cherry_(including_sour)___healthy       0.73      0.58      0.65       456\n",
      "           Corn_(maize)___healthy       1.00      0.90      0.95       465\n",
      "                  Grape___healthy       0.74      0.65      0.69       423\n",
      "                  Peach___healthy       0.89      0.80      0.84       432\n",
      "           Pepper,_bell___healthy       0.54      0.76      0.63       497\n",
      "                 Potato___healthy       0.59      0.60      0.59       456\n",
      "              Raspberry___healthy       0.75      0.55      0.63       445\n",
      "                Soybean___healthy       0.67      0.67      0.67       505\n",
      "             Strawberry___healthy       0.42      0.75      0.54       456\n",
      "                 Tomato___healthy       0.71      0.59      0.65       481\n",
      "\n",
      "                         accuracy                           0.66      5572\n",
      "                        macro avg       0.69      0.66      0.67      5572\n",
      "                     weighted avg       0.69      0.66      0.67      5572\n",
      "\n",
      "\n",
      "Random Forest - Accuracy: 0.9695\n",
      "                                   precision    recall  f1-score   support\n",
      "\n",
      "                  Apple___healthy       0.96      0.95      0.95       502\n",
      "              Blueberry___healthy       0.94      0.97      0.96       454\n",
      "Cherry_(including_sour)___healthy       0.98      0.98      0.98       456\n",
      "           Corn_(maize)___healthy       1.00      1.00      1.00       465\n",
      "                  Grape___healthy       0.98      0.99      0.99       423\n",
      "                  Peach___healthy       0.97      0.99      0.98       432\n",
      "           Pepper,_bell___healthy       0.96      0.96      0.96       497\n",
      "                 Potato___healthy       0.96      0.94      0.95       456\n",
      "              Raspberry___healthy       0.98      0.97      0.97       445\n",
      "                Soybean___healthy       0.96      0.95      0.95       505\n",
      "             Strawberry___healthy       0.97      0.97      0.97       456\n",
      "                 Tomato___healthy       0.98      0.97      0.98       481\n",
      "\n",
      "                         accuracy                           0.97      5572\n",
      "                        macro avg       0.97      0.97      0.97      5572\n",
      "                     weighted avg       0.97      0.97      0.97      5572\n",
      "\n"
     ]
    },
    {
     "name": "stderr",
     "output_type": "stream",
     "text": [
      "/Users/felix/Documents/Data Science/06_Offical_project_DS/may25_bds_plants/.venv/lib/python3.11/site-packages/xgboost/training.py:183: UserWarning: [18:15:28] WARNING: /Users/runner/work/xgboost/xgboost/src/learner.cc:738: \n",
      "Parameters: { \"use_label_encoder\" } are not used.\n",
      "\n",
      "  bst.update(dtrain, iteration=i, fobj=obj)\n"
     ]
    },
    {
     "name": "stdout",
     "output_type": "stream",
     "text": [
      "\n",
      "XGBoost - Accuracy: 0.9840\n",
      "                                   precision    recall  f1-score   support\n",
      "\n",
      "                  Apple___healthy       0.99      0.98      0.99       502\n",
      "              Blueberry___healthy       0.98      0.98      0.98       454\n",
      "Cherry_(including_sour)___healthy       0.98      0.99      0.99       456\n",
      "           Corn_(maize)___healthy       1.00      1.00      1.00       465\n",
      "                  Grape___healthy       1.00      1.00      1.00       423\n",
      "                  Peach___healthy       0.97      0.99      0.98       432\n",
      "           Pepper,_bell___healthy       0.99      0.96      0.97       497\n",
      "                 Potato___healthy       0.98      0.97      0.97       456\n",
      "              Raspberry___healthy       0.98      0.99      0.99       445\n",
      "                Soybean___healthy       0.97      0.98      0.97       505\n",
      "             Strawberry___healthy       0.99      0.98      0.98       456\n",
      "                 Tomato___healthy       0.99      0.98      0.98       481\n",
      "\n",
      "                         accuracy                           0.98      5572\n",
      "                        macro avg       0.98      0.98      0.98      5572\n",
      "                     weighted avg       0.98      0.98      0.98      5572\n",
      "\n"
     ]
    }
   ],
   "source": [
    "# Define models\n",
    "models = {\n",
    "    \"Logistic Regression\": LogisticRegression(max_iter=1000),\n",
    "    \"SVM\": SVC(),\n",
    "    \"KNN\": KNeighborsClassifier(),\n",
    "    \"Decision Tree\": DecisionTreeClassifier(),\n",
    "    \"Bagging\": BaggingClassifier(),\n",
    "    \"Boosting\": AdaBoostClassifier(),\n",
    "    \"Random Forest\": RandomForestClassifier(),\n",
    "    \"XGBoost\": XGBClassifier(use_label_encoder=False, eval_metric='mlogloss')\n",
    "}\n",
    "\n",
    "# Train and evaluate\n",
    "for name, model in models.items():\n",
    "    model.fit(features_healthy_train, y_train)\n",
    "    y_pred = model.predict(features_healthy_valid)\n",
    "    acc = accuracy_score(y_valid, y_pred)\n",
    "    print(f\"\\n{name} - Accuracy: {acc:.4f}\")\n",
    "    print(classification_report(y_valid, y_pred, target_names=le.classes_))\n",
    "\n",
    "\n"
   ]
  },
  {
   "cell_type": "markdown",
   "id": "2e0a2a78",
   "metadata": {},
   "source": [
    "### 3. Save the Models"
   ]
  },
  {
   "cell_type": "code",
   "execution_count": 16,
   "id": "73468bc3",
   "metadata": {},
   "outputs": [
    {
     "name": "stdout",
     "output_type": "stream",
     "text": [
      "Models saved successfully.\n"
     ]
    }
   ],
   "source": [
    "# Directory to save models\n",
    "save_dir = \"/Users/felix/Documents/Data Science/06_Offical_project_DS/may25_bds_plants/02_models/01_first_models\"\n",
    "today = date.today().isoformat()\n",
    "\n",
    "# Save models with sanitized filenames\n",
    "for name, model in models.items():\n",
    "    safe_name = name.replace(\" \", \"_\")  # Replace spaces with underscores\n",
    "    filename = f\"{save_dir}/{today}_{safe_name}.joblib\"\n",
    "    joblib.dump(model, filename)\n",
    "\n",
    "print(\"Models saved successfully.\")\n"
   ]
  }
 ],
 "metadata": {
  "kernelspec": {
   "display_name": ".venv",
   "language": "python",
   "name": "python3"
  },
  "language_info": {
   "codemirror_mode": {
    "name": "ipython",
    "version": 3
   },
   "file_extension": ".py",
   "mimetype": "text/x-python",
   "name": "python",
   "nbconvert_exporter": "python",
   "pygments_lexer": "ipython3",
   "version": "3.11.9"
  }
 },
 "nbformat": 4,
 "nbformat_minor": 5
}
